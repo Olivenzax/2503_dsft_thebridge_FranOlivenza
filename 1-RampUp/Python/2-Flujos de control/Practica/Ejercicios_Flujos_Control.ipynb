{
 "cells": [
  {
   "cell_type": "markdown",
   "metadata": {},
   "source": [
    "![imagen](./img/ejercicios.png)"
   ]
  },
  {
   "cell_type": "markdown",
   "metadata": {},
   "source": [
    "# Ejercicios Flujos de control"
   ]
  },
  {
   "cell_type": "markdown",
   "metadata": {},
   "source": [
    "## Ejercicio 1\n",
    "Declara una variable numérica que será una hora cualquiera del día. Implementa la siguiente casuística:\n",
    "\n",
    "* Si es entre las 0 y las 8, print \"Durmiendo\"\n",
    "* Si es entre las 9 y las 18, print \"Trabajando\"\n",
    "* Si es entre las 19 y las 21, print \"Clase\"\n",
    "* Si es entre las 22 y las 24, print \"Descanso\"\n",
    "* En cualquier otro caso, print \"Transporte o error\""
   ]
  },
  {
   "cell_type": "code",
   "execution_count": null,
   "metadata": {},
   "outputs": [
    {
     "name": "stdout",
     "output_type": "stream",
     "text": [
      "Transporte o error\n"
     ]
    }
   ],
   "source": [
    "# Opción 1\n",
    "\n",
    "hora = float(input(\"Perdona, tengo todo el día ocupado. Dime a qué hora te viene bien\"))\n",
    "if hora <= 0 or hora > 24:\n",
    "    print(\"Transporte o error\")\n",
    "elif hora < 19:\n",
    "    print(\"Trabajando\")\n",
    "elif hora < 22:\n",
    "    print(\"Clase\")\n",
    "elif hora <= 24:\n",
    "    print(\"Descanso\")\n",
    "else:\n",
    "    print(\"Durmiendo\")"
   ]
  },
  {
   "cell_type": "markdown",
   "metadata": {},
   "source": [
    "## Ejercicio 2\n",
    "En este ejercicio vamos a implementar un calculador de precios de casas muy sencillo. Tenemos las siguientes variables:\n",
    "\n",
    "> superficie\n",
    ">\n",
    "> distrito\n",
    "\n",
    "Implementa la siguiente casuística:\n",
    "\n",
    "1. Si el distrito es \"Moncloa\" o \"Centro\", y además la superficie es superior a 100 metros cuadrados, el precio de la casa es de 1000\n",
    "2. Si el distrito es \"Salamanca\", y además la superficie de la casa es al menos de 150 metros, el precio de la casa es de 1500\n",
    "3. Si el distrito no es \"Retiro\" y la superficie está entre 60 y 80 metros, el precio es de 600\n",
    "4. En cualquier otro caso, el precio será de 0"
   ]
  },
  {
   "cell_type": "code",
   "execution_count": null,
   "metadata": {},
   "outputs": [
    {
     "name": "stdout",
     "output_type": "stream",
     "text": [
      "El distrito elegido es Chamartín \n",
      "El tamaño deseado del piso es de 90 metros cuadrados\n",
      "No hay pisos de esas características o en esa zona\n"
     ]
    }
   ],
   "source": [
    "''' \n",
    "Hay opción de hacerlo sin \"inputs\"\n",
    "Es un calculador, por lo cual no tiene mucho sentido no hacer\n",
    "'''\n",
    "\n",
    "distrito = str(input(\"¿En qué distrito quieres vivir?\"))\n",
    "\n",
    "superficie = float(input(\"¿De cuántos metros cuadrados quieres la vivienda?\"))\n",
    "\n",
    "# Se presentan los resultados obtenido de la 'encuesta'\n",
    "print(\"El distrito elegido es\",distrito)\n",
    "print(\"El tamaño deseado del piso es de\",round(superficie),\"metros cuadrados\")\n",
    "\n",
    "# Se presentan las cuatro condiciones del enunciado.\n",
    "if (distrito == \"Moncloa\" or distrito == \"Centro\") and superficie > 100:\n",
    "    print(\"El precio en esta zona ronda los 1000 euros\")\n",
    "elif distrito == \"Salamanca\" and superficie >= 150:\n",
    "    print(\"El precio medio en este distrito es 1500 euros\")\n",
    "elif distrito != \"Retiro\" and superficie >= 60 and superficie <= 80:\n",
    "    print(\"El precio en esta zona ronda los 600 euros\")\n",
    "else:\n",
    "    print(\"No hay pisos de esas características o en esa zona\")\n"
   ]
  },
  {
   "cell_type": "markdown",
   "metadata": {},
   "source": [
    "## Ejercicio 3\n",
    "En este ejercicio vamos a realizar un programa muy parecido. Para este caso queremos que se cumplan las siguientes condiciones:\n",
    "\n",
    "1. Primero se compruebe si el distrito es \"Retiro\". Si es así, que imprima \"Distrito Retiro\", y si no, \"Otro distrito\"\n",
    "2. Si el distrito es \"Retiro\", comprueba si la superficie es mayor de 100 metros cuadrados. En tal caso, que imprima un precio de 1000, y si no, de 500.\n",
    "\n",
    "Prueba a usar `ifs` anidados"
   ]
  },
  {
   "cell_type": "code",
   "execution_count": 32,
   "metadata": {},
   "outputs": [
    {
     "name": "stdout",
     "output_type": "stream",
     "text": [
      "Este piso está en\n",
      "Otro distrito. Prueba a buscar en la zona del Retiro.\n"
     ]
    }
   ],
   "source": [
    "\n",
    "distrito = str(input(\"Bienvenido a Madrid: ¿En qué distrito quieres vivir? Te recomendamos el Retiro\"))\n",
    "\n",
    "superficie = float(input(\"¿De cuántos metros cuadrados quieres la vivienda\"))\n",
    "\n",
    "if distrito == \"Retiro\":\n",
    "    if superficie >= 100:\n",
    "        print(\"Esta vivienda rondará los 1000 euros.\")\n",
    "    else:\n",
    "        print(\"Este tipo de vivienda tiene un precio estimado de 500 euros.\")\n",
    "else:\n",
    "    print(\"Otro distrito. Prueba a buscar en la zona del Retiro.\")"
   ]
  },
  {
   "cell_type": "markdown",
   "metadata": {},
   "source": [
    "## Ejercicio 4\n",
    "Escribe un programa que tenga dos variables: un numero, y una lista numérica. El programa debe recorrer la lista e imprimir por pantalla cada elemento de la lista multiplicado por el número"
   ]
  },
  {
   "cell_type": "code",
   "execution_count": 59,
   "metadata": {},
   "outputs": [
    {
     "name": "stdout",
     "output_type": "stream",
     "text": [
      "Para los números [1, 2, 3, 4, 5] por el número 5 el resultado es...\n",
      "5\n",
      "10\n",
      "15\n",
      "20\n",
      "25\n"
     ]
    }
   ],
   "source": [
    "# Opción 1\n",
    "\n",
    "num = 5\n",
    "\n",
    "list_num = [1,2,3,4,5]\n",
    "\n",
    "print(f\"Para los números {list_num} por el número {num} el resultado es...\")\n",
    "for n in list_num:\n",
    "    mult = num * list_num[n-1]\n",
    "    print(mult)"
   ]
  },
  {
   "cell_type": "code",
   "execution_count": 58,
   "metadata": {},
   "outputs": [
    {
     "name": "stdout",
     "output_type": "stream",
     "text": [
      "Para los números [1, 2, 3, 4, 5] por el número 6 el resultado es...\n",
      "6\n",
      "12\n",
      "18\n",
      "24\n",
      "30\n"
     ]
    }
   ],
   "source": [
    "# Opción 2\n",
    "\n",
    "num1 = 6\n",
    "\n",
    "list_num1 = [1,2,3,4,5]\n",
    "\n",
    "print(f\"Para los números {list_num1} por el número {num1} el resultado es...\")\n",
    "for i in range(len(list_num)):\n",
    "    print(list_num[i]*num1)"
   ]
  },
  {
   "cell_type": "markdown",
   "metadata": {},
   "source": [
    "## Ejercicio 5\n",
    "Imprime por pantalla cada número del -10 al -1. En ese orden. Consulta [la documentación](https://www.w3schools.com/python/ref_func_range.asp) de `range`"
   ]
  },
  {
   "cell_type": "code",
   "execution_count": 62,
   "metadata": {},
   "outputs": [
    {
     "name": "stdout",
     "output_type": "stream",
     "text": [
      "Los números del -10 al -1 son:\n",
      "-10 -9 -8 -7 -6 -5 -4 -3 -2 -1 "
     ]
    }
   ],
   "source": [
    "print(\"Los números del -10 al -1 son:\")\n",
    "\n",
    "for n in range(-10,0,1):\n",
    "    print(n, end=\" \")\n",
    "    "
   ]
  },
  {
   "cell_type": "markdown",
   "metadata": {},
   "source": [
    "## Ejercicio 6\n",
    "Dada la siguiente lista:\n",
    "\n",
    "> list1 = [12, 15, 32, 42, 55, 75, 122, 132, 150, 180, 200]\n",
    "\n",
    "Implementa un programa que los recorra e imprima por pantalla todos los divisibles por 5. Si nos encontramos con alguno que sea mayor que 150, detener el bucle."
   ]
  },
  {
   "cell_type": "code",
   "execution_count": 87,
   "metadata": {},
   "outputs": [
    {
     "name": "stdout",
     "output_type": "stream",
     "text": [
      "15\n",
      "55\n",
      "75\n",
      "150\n"
     ]
    }
   ],
   "source": [
    "list1 = [12, 15, 32, 42, 55, 75, 122, 132, 150, 180, 200]\n",
    "for div_5 in range(len(list1)):\n",
    "    if list1[div_5]%5 == 0 and list1[div_5] <= 150:\n",
    "        print(list1[div_5])\n",
    "\n",
    "   "
   ]
  },
  {
   "cell_type": "code",
   "execution_count": 2,
   "metadata": {},
   "outputs": [
    {
     "name": "stdout",
     "output_type": "stream",
     "text": [
      "15 es un número divisible entre 5\n",
      "55 es un número divisible entre 5\n",
      "75 es un número divisible entre 5\n",
      "150 es un número divisible entre 5\n"
     ]
    }
   ],
   "source": [
    "list1 = [12, 15, 32, 42, 55, 75, 122, 132, 150, 180, 200]\n",
    "\n",
    "for i in list1:\n",
    "    if i % 5 == 0:\n",
    "        print(i,\"es un número divisible entre 5\")\n",
    "    if i >= 150:\n",
    "        break"
   ]
  },
  {
   "attachments": {},
   "cell_type": "markdown",
   "metadata": {},
   "source": [
    "## Ejercicio 7\n",
    "Escribe un programa en Python que imprima por pantalla todos los números que cumplan que sean divisibles por 5 y divisibles por 7, dentro del rango de valores (150, 350)."
   ]
  },
  {
   "cell_type": "code",
   "execution_count": 6,
   "metadata": {},
   "outputs": [
    {
     "name": "stdout",
     "output_type": "stream",
     "text": [
      "150 154 155 160 161 165 168 170 175 180 182 185 189 190 195 196 200 203 205 210 215 217 220 224 225 230 231 235 238 240 245 250 252 255 259 260 265 266 270 273 275 280 285 287 290 294 295 300 301 305 308 310 315 320 322 325 329 330 335 336 340 343 345 350 "
     ]
    }
   ],
   "source": [
    "# Opción 1\n",
    "\n",
    "# Esta opción da los resultados divisibles entre 5 o 7.\n",
    "\n",
    "list_range = list(range(150,351,1))\n",
    "div1 = 5\n",
    "div2 = 7\n",
    "for n in range(len(list_range)):\n",
    "    if list_range[n] % div1 == 0 or list_range[n] % div2 == 0:\n",
    "        print(list_range[n], end=\" \")"
   ]
  },
  {
   "cell_type": "code",
   "execution_count": 7,
   "metadata": {},
   "outputs": [
    {
     "name": "stdout",
     "output_type": "stream",
     "text": [
      "175 210 245 280 315 350 "
     ]
    }
   ],
   "source": [
    "# Opción 2\n",
    "\n",
    "# Esta opción da los resultados divisibles entre 5 y 7.\n",
    "\n",
    "list_range = list(range(150,351,1))\n",
    "div1 = 5\n",
    "div2 = 7\n",
    "for n in range(len(list_range)):\n",
    "    if list_range[n] % div1 == 0 and list_range[n] % div2 == 0:\n",
    "        print(list_range[n], end=\" \")"
   ]
  },
  {
   "cell_type": "markdown",
   "metadata": {},
   "source": [
    "## Ejercicio 8\n",
    "Implementa un programa que imprima por pantalla el siguiente patrón\n",
    "\n",
    "5 4 3 2 1 \n",
    "\n",
    "4 3 2 1 \n",
    "\n",
    "3 2 1 \n",
    "\n",
    "2 1 \n",
    "\n",
    "1\n",
    "\n",
    "NOTA: NO hay lineas en blanco entre una línea y otra."
   ]
  },
  {
   "cell_type": "code",
   "execution_count": null,
   "metadata": {},
   "outputs": [
    {
     "name": "stdout",
     "output_type": "stream",
     "text": [
      "5 4 3 2 1 \n",
      "4 3 2 1 \n",
      "3 2 1 \n",
      "2 1 \n",
      "1 \n"
     ]
    }
   ],
   "source": [
    "# Opción 1 (Sin parametrizar)\n",
    "\n",
    "for n in range(5, 0, -1):\n",
    "    for v in range(n, 0, -1):\n",
    "        print(v, end=' ')\n",
    "    print()"
   ]
  },
  {
   "cell_type": "code",
   "execution_count": 2,
   "metadata": {},
   "outputs": [
    {
     "name": "stdout",
     "output_type": "stream",
     "text": [
      "6 5 4 3 2 1 \n",
      "5 4 3 2 1 \n",
      "4 3 2 1 \n",
      "3 2 1 \n",
      "2 1 \n",
      "1 \n"
     ]
    }
   ],
   "source": [
    "# Opción 2 (Parametrizado)\n",
    "\n",
    "c = int(input(\"Introduce el número desde el que empieza la escalera\"))\n",
    "\n",
    "for n in range(c, 0, -1):\n",
    "    for v in range(n, 0, -1):\n",
    "        print(v, end=' ')\n",
    "    print()"
   ]
  },
  {
   "cell_type": "markdown",
   "metadata": {},
   "source": [
    "Se utilizan dos `for` para contar primero las filas y después las columnas."
   ]
  },
  {
   "cell_type": "markdown",
   "metadata": {},
   "source": [
    "## Ejercicio 9\n",
    "En este ejercicio vamos a crear un pequeño juego. Se trata de intentar adivinar un numero del 1 al 5. Tenemos dos intentos para acertar. Pasos a seguir:\n",
    "\n",
    "1. Ya viene implementado con la librería `random` cómo obtener un número aleatorio del 1 al 5\n",
    "2. Tendrás que declarar en una variable el numero de vidas, y mediante un bucle while, comprobar que todavia quedan vidas.\n",
    "3. Dentro del bucle, obtener el valor del usuario y comprobar si es ese el numero a adivinar. Si no, actualizar las vidas.\n",
    "4. Si acertamos, salimos del bucle e imprimimos por pantalla \"You win\". Y si perdemos también salimos del bucle, pero en este caso imprimimos por pantalla \"You lose\".\n",
    "\n",
    "TIP: te puede resultar útil usar la sentencia `else` cuando acabe el bucle `while`. Lo que haya dentro de ese `else` se ejecutará una vez acabe la ejecución del `while`. Lo podrás usar para cuando pierdas."
   ]
  },
  {
   "cell_type": "code",
   "execution_count": 1,
   "metadata": {},
   "outputs": [],
   "source": [
    "import random"
   ]
  },
  {
   "cell_type": "code",
   "execution_count": null,
   "metadata": {},
   "outputs": [
    {
     "name": "stdout",
     "output_type": "stream",
     "text": [
      "¡Bienvenido de al juego! Elige sabiamente un número del 1 al 5\n",
      "\n",
      "3\n",
      "Incorrecto. Te quedan 1 intentos.\n",
      "2\n",
      "¡Has perdido!\n",
      "El número correcto era 4\n"
     ]
    }
   ],
   "source": [
    "import random\n",
    "\n",
    "print(\"¡Bienvenido de al juego! Elige sabiamente un número del 1 al 5\")\n",
    "print()\n",
    "# De la siguiente forma se genera un número aleatorio entre esos dos.\n",
    "num_aleatorio = random.randint(1, 5)\n",
    "\n",
    "vidas = 2\n",
    "\n",
    "while vidas > 0:\n",
    "    intento = int(input(\"Adivina el número entre 1 y 5: \"))\n",
    "    print(intento)\n",
    "    if intento > 5 or intento <= 0:\n",
    "        vidas -= 1 # De esta forma se reduce una vida.\n",
    "        if vidas > 0:\n",
    "            print(f\"¿De verdad? He dicho entre 1 y 5. Te quedan {vidas} intentos.\")\n",
    "        else:\n",
    "            print(\"¡Entre 1 y 5! La próxima vez tenlo en cuenta\")\n",
    "            print(f\"El número correcto era {num_aleatorio}\")\n",
    "            break\n",
    "    elif intento == num_aleatorio:\n",
    "        print(f\"¡Ganaste! Efectivamente el número correcto era el {num_aleatorio}\")\n",
    "        break\n",
    "    else:\n",
    "        vidas -= 1 # De esta forma se reduce una vida.\n",
    "        if vidas > 0:\n",
    "            print(f\"Incorrecto. Te quedan {vidas} intentos.\")\n",
    "        else:\n",
    "            print(\"¡Has perdido!\")\n",
    "            print(f\"El número correcto era {num_aleatorio}\")\n",
    "            break"
   ]
  },
  {
   "cell_type": "code",
   "execution_count": null,
   "metadata": {},
   "outputs": [
    {
     "name": "stdout",
     "output_type": "stream",
     "text": [
      "¡Bienvenido de a Adivina tu número!\n",
      "\n",
      "El número de vidas elegido es 6\n",
      "\n",
      "Tienes que elegir dos números, el primero menor que el segundo. Si no, volverás aquí\n",
      "\n",
      "Has elegido jugar con 6 vidas y adivinar entre 4 números. Por lo que la dificultad será Fácil\n",
      "\n",
      "Muy bien, tendrás que adivinar un número aleatorio entre 1 y 5\n",
      "\n"
     ]
    },
    {
     "ename": "ValueError",
     "evalue": "invalid literal for int() with base 10: ''",
     "output_type": "error",
     "traceback": [
      "\u001b[31m---------------------------------------------------------------------------\u001b[39m",
      "\u001b[31mValueError\u001b[39m                                Traceback (most recent call last)",
      "\u001b[36mCell\u001b[39m\u001b[36m \u001b[39m\u001b[32mIn[36]\u001b[39m\u001b[32m, line 39\u001b[39m\n\u001b[32m     36\u001b[39m vidas = vidas_elegir\n\u001b[32m     38\u001b[39m \u001b[38;5;28;01mwhile\u001b[39;00m vidas > \u001b[32m0\u001b[39m:\n\u001b[32m---> \u001b[39m\u001b[32m39\u001b[39m     intento = \u001b[38;5;28;43mint\u001b[39;49m\u001b[43m(\u001b[49m\u001b[38;5;28;43minput\u001b[39;49m\u001b[43m(\u001b[49m\u001b[33;43mf\u001b[39;49m\u001b[33;43m\"\u001b[39;49m\u001b[33;43mAdivina el número entre \u001b[39;49m\u001b[38;5;132;43;01m{\u001b[39;49;00m\u001b[43mnumero_inferior\u001b[49m\u001b[38;5;132;43;01m}\u001b[39;49;00m\u001b[33;43m y \u001b[39;49m\u001b[38;5;132;43;01m{\u001b[39;49;00m\u001b[43mnumero_superior\u001b[49m\u001b[38;5;132;43;01m}\u001b[39;49;00m\u001b[33;43m: \u001b[39;49m\u001b[33;43m\"\u001b[39;49m\u001b[43m)\u001b[49m\u001b[43m)\u001b[49m\n\u001b[32m     40\u001b[39m     \u001b[38;5;28mprint\u001b[39m(intento)\n\u001b[32m     41\u001b[39m     \u001b[38;5;28;01mif\u001b[39;00m intento > numero_superior \u001b[38;5;129;01mor\u001b[39;00m intento < numero_inferior:\n",
      "\u001b[31mValueError\u001b[39m: invalid literal for int() with base 10: ''"
     ]
    }
   ],
   "source": [
    "# Opción 2 -- Prueba\n",
    "import random\n",
    "print(\"¡Bienvenido de a Adivina tu número!\")\n",
    "print()\n",
    "\n",
    "vidas_elegir = int(input(\"Elige el número de vidas:\"))\n",
    "\n",
    "print(f\"El número de vidas elegido es {vidas_elegir}\")\n",
    "print()\n",
    "text_vidas = \"Tienes que elegir dos números, el primero menor que el segundo. Si no, volverás aquí\"\n",
    "print(text_vidas)\n",
    "\n",
    "while numero_inferior >= numero_superior:\n",
    "    numero_inferior = int(input(\"¿Desde qué número?\"))\n",
    "    numero_superior = int(input(\"¿Hasta qué número?\"))\n",
    "    print(f\"Has elegido entre {numero_inferior} y {numero_superior}\")\n",
    "    print(\"Vuelve a elegir, entre esos números no puedo\")\n",
    "\n",
    "\n",
    "\n",
    "# De la siguiente forma se genera un número aleatorio entre esos dos.\n",
    "num_aleatorio = random.randint(numero_inferior,numero_superior)\n",
    "\n",
    "dist_num = numero_superior - numero_inferior\n",
    "\n",
    "if dist_num <= 5 and vidas_elegir > 5:\n",
    "    dificultad = \"Fácil\"\n",
    "else:\n",
    "    dificultad = \"Difícil\"\n",
    "\n",
    "\n",
    "print()\n",
    "print(f\"Has elegido jugar con {vidas} vidas y adivinar entre {dist_num} números. Por lo que la dificultad será {dificultad}\")\n",
    "print()\n",
    "print(f\"Muy bien, tendrás que adivinar un número aleatorio entre {numero_inferior} y {numero_superior}\")\n",
    "print()\n",
    "\n",
    "vidas = vidas_elegir\n",
    "\n",
    "while vidas > 0:\n",
    "    intento = int(input(f\"Adivina el número entre {numero_inferior} y {numero_superior}: \"))\n",
    "    print(intento)\n",
    "    if intento > numero_superior or intento < numero_inferior:\n",
    "        vidas -= 1 # De esta forma se reduce una vida.\n",
    "        if vidas > 0:\n",
    "            print(f\"¿De verdad? He dicho entre {numero_inferior} y {numero_superior}. Te quedan {vidas} intentos.\")\n",
    "        else:\n",
    "            print(f\"¡Entre {numero_inferior} y {numero_superior}! La próxima vez tenlo en cuenta\")\n",
    "            print(f\"El número correcto era {num_aleatorio}\")\n",
    "            break\n",
    "    elif intento == num_aleatorio:\n",
    "        print(f\"¡Ganaste! Efectivamente el número correcto era el {num_aleatorio}\")\n",
    "        break\n",
    "    else:\n",
    "        vidas -= 1 # De esta forma se reduce una vida.\n",
    "        if vidas > 1:\n",
    "            print(f\"Incorrecto. Te quedan {vidas} intentos.\")\n",
    "        elif vidas == 1:\n",
    "            print(f\"Incorrecto. Te queda {vidas} intento.\")\n",
    "        else:\n",
    "            print(\"¡Has perdido!\")\n",
    "            print(f\"El número correcto era {num_aleatorio}\")\n",
    "            break"
   ]
  },
  {
   "cell_type": "code",
   "execution_count": 150,
   "metadata": {},
   "outputs": [],
   "source": []
  },
  {
   "cell_type": "code",
   "execution_count": null,
   "metadata": {},
   "outputs": [],
   "source": []
  },
  {
   "cell_type": "code",
   "execution_count": null,
   "metadata": {},
   "outputs": [],
   "source": []
  }
 ],
 "metadata": {
  "kernelspec": {
   "display_name": "Python 3",
   "language": "python",
   "name": "python3"
  },
  "language_info": {
   "codemirror_mode": {
    "name": "ipython",
    "version": 3
   },
   "file_extension": ".py",
   "mimetype": "text/x-python",
   "name": "python",
   "nbconvert_exporter": "python",
   "pygments_lexer": "ipython3",
   "version": "3.11.9"
  }
 },
 "nbformat": 4,
 "nbformat_minor": 4
}
