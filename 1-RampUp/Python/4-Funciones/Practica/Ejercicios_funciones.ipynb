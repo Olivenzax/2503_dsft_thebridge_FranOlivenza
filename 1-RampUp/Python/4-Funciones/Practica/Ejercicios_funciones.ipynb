{
 "cells": [
  {
   "cell_type": "markdown",
   "metadata": {},
   "source": [
    "![imagen](./img/ejercicios.png)"
   ]
  },
  {
   "cell_type": "markdown",
   "metadata": {},
   "source": [
    "# Ejercicios funciones\n",
    "## Ejercicio 1\n",
    "Escribe una función que convierta números del 1 al 7 en nombres de los dias de la semana. La función constará de un único argumento numérico y una salida de tipo string"
   ]
  },
  {
   "cell_type": "code",
   "execution_count": null,
   "metadata": {},
   "outputs": [
    {
     "name": "stdout",
     "output_type": "stream",
     "text": [
      "1 Lunes\n"
     ]
    }
   ],
   "source": [
    "# Opción 1\n",
    "# Lista\n",
    "\n",
    "dia_text = [\"Lunes\", \"Martes\", \"Miércoles\", \"Jueves\", \"Viernes\", \"Sábado\", \"Domingo\"]\n",
    "dia_num = int(input(\"Introduce un número del 1 al 7\"))\n",
    "\n",
    "def convertir_num(dia_text):\n",
    "    for d in range(len(dia_text)):\n",
    "        if dia_num == d+1:\n",
    "            print(d+1,dia_text[d])\n",
    "\n",
    "convertir_num(dia_text)"
   ]
  },
  {
   "cell_type": "code",
   "execution_count": null,
   "metadata": {},
   "outputs": [],
   "source": [
    "# Opción 2\n",
    "# Diccionario\n",
    "\n",
    "numero = int(input(\"Introduce un número del 1 al 7:\"))\n",
    "\n",
    "def numero_a_dia_semana(numero):\n",
    "    dias_semana = {\n",
    "        1: \"Lunes\",\n",
    "        2: \"Martes\",\n",
    "        3: \"Miércoles\",\n",
    "        4: \"Jueves\",\n",
    "        5: \"Viernes\",\n",
    "        6: \"Sábado\",\n",
    "        7: \"Domingo\"\n",
    "    }\n",
    "    if numero < 1 or numero > 7:\n",
    "        return \"Número inválido. Debe ser un valor entre 1 y 7.\"\n",
    "    else:\n",
    "        return dias_semana.get(numero, \"Número inválido\")\n",
    "# El método get() nos permite consultar el value para un key determinado. El segundo parámetro es opcional, y en el caso de proporcionarlo es el valor a devolver si no se encuentra la key.\n",
    "\n",
    "numero_a_dia_semana(numero)"
   ]
  },
  {
   "cell_type": "markdown",
   "metadata": {},
   "source": [
    "## Ejercicio 2\n",
    "En el ejercicio 8 de flujos de control, creábamos una pirámide invertida de números desde el 5. Crea una función que replique el comportamiento de la pirámide, y utiliza un único parámetro de entrada de la función para determinar el número de filas de la pirámide."
   ]
  },
  {
   "cell_type": "code",
   "execution_count": 3,
   "metadata": {},
   "outputs": [
    {
     "name": "stdout",
     "output_type": "stream",
     "text": [
      "3 2 1 \n",
      "2 1 \n",
      "1 \n"
     ]
    }
   ],
   "source": [
    "# Opción 1\n",
    "\n",
    "c = int(input(\"Introduce el número de filas:\"))\n",
    "\n",
    "def piramide_invertida(c):\n",
    "    for n in range(c, 0, -1):\n",
    "        for v in range(n, 0, -1):\n",
    "            print(v, end=\" \")\n",
    "        print()\n",
    "\n",
    "piramide_invertida(c)"
   ]
  },
  {
   "cell_type": "code",
   "execution_count": 4,
   "metadata": {},
   "outputs": [
    {
     "name": "stdout",
     "output_type": "stream",
     "text": [
      "1 2 3 4\n",
      "1 2 3\n",
      "1 2\n",
      "1\n"
     ]
    }
   ],
   "source": [
    "# Opción 2\n",
    "## Recursividad\n",
    "\n",
    "c = int(input(\"Introduce el número de filas: \"))\n",
    "\n",
    "def piramide_invertida(c, actual=1):\n",
    "    if actual > c:\n",
    "        return\n",
    "    print(\" \".join(str(j) for j in range(1, c - actual + 2)))\n",
    "    piramide_invertida(c, actual + 1)\n",
    "\n",
    "piramide_invertida(c)\n",
    "    "
   ]
  },
  {
   "cell_type": "markdown",
   "metadata": {},
   "source": [
    "## Ejercicio 3\n",
    "Escribe una función que compare dos números. La función tiene dos argumentos y hay tres salidas posibles: que sean iguales, que el primero sea  mayor que el segundo, o que el segundo sea mayor que el primero"
   ]
  },
  {
   "cell_type": "code",
   "execution_count": 6,
   "metadata": {},
   "outputs": [
    {
     "name": "stdout",
     "output_type": "stream",
     "text": [
      "Selecciona dos números\n",
      "Los dos números son iguales.\n"
     ]
    }
   ],
   "source": [
    "# Opción 1\n",
    "\n",
    "def comparar_num(i,j):\n",
    "    i = x\n",
    "    j = y\n",
    "    if i > j:\n",
    "        print(\"El primero es mayor que el segundo.\")\n",
    "    elif i < j:\n",
    "        print(\"El segundo es mayor que el primero.\")\n",
    "    else:\n",
    "        print(\"Los dos números son iguales.\")\n",
    "\n",
    "print(\"Selecciona dos números\")\n",
    "x = input(\"introduce un numero\")\n",
    "y = input(\"introduce otro numero\")\n",
    "\n",
    "comparar_num(x,y)\n"
   ]
  },
  {
   "cell_type": "code",
   "execution_count": null,
   "metadata": {},
   "outputs": [],
   "source": [
    "# El resto de opciones que he probado para este no me han salido. "
   ]
  },
  {
   "cell_type": "code",
   "execution_count": null,
   "metadata": {},
   "outputs": [],
   "source": []
  },
  {
   "attachments": {},
   "cell_type": "markdown",
   "metadata": {},
   "source": [
    "## Ejercicio 4\n",
    "Escribe una función que sea un contador de letras. En el primer argumento tienes que introducir un texto, y el segundo que sea una letra que contar. La función tiene que devolver un entero con el número de veces que aparece esa letra, tanto mayúscula, como minúscula"
   ]
  },
  {
   "cell_type": "code",
   "execution_count": null,
   "metadata": {},
   "outputs": [],
   "source": [
    "\n",
    "print(\"Contador de letras:\")\n",
    "texto_buscar = str(input(\"Introduce el texto sobre el que contar:\")).lower()\n",
    "letra_txt = str(input(\"Escribe la letra que quieres contar:\")).lower()\n",
    "\n",
    "def buscar_letra(texto_buscar):\n",
    "    print(f\"\\nEl texto sobre el que quieres actuar es:\\n {texto_buscar}\")\n",
    "    print(f\"\\nEl número de veces que aparece la letra {letra_txt} en el texto de arriba es {texto_buscar.count(letra_txt)}\")\n",
    "    return\n",
    "\n",
    "buscar_letra(texto_buscar)\n"
   ]
  },
  {
   "cell_type": "code",
   "execution_count": 17,
   "metadata": {},
   "outputs": [
    {
     "name": "stdout",
     "output_type": "stream",
     "text": [
      "Contador de letras:\n",
      "Reemplazando á por a\n",
      "Reemplazando é por e\n",
      "Reemplazando í por i\n",
      "Reemplazando ó por o\n",
      "Reemplazando ú por u\n",
      "Reemplazando ü por u\n",
      "Nuevo texto la alegría es contagiosa\n",
      "la alegría es contagiosa\n",
      "\n",
      "El texto sobre el que quieres actuar es:\n",
      " la alegría es contagiosa\n",
      "\n",
      "El número de veces que aparece la letra i en el texto de arriba es 1\n"
     ]
    }
   ],
   "source": [
    "print(\"Contador de letras:\")\n",
    "texto_buscar = str(input(\"Introduce el texto sobre el que contar:\")).lower()\n",
    "letra_txt = str(input(\"Escribe la letra que quieres contar:\")).lower()\n",
    "\n",
    "def limpieza_texto(texto_buscar, dict_vocales={'á':'a','é':'e','í':'i','ó':'o','ú':'u','ü':'u'}):\n",
    "    for clave in dict_vocales:\n",
    "        print(f\"Reemplazando {clave} por {dict_vocales[clave]}\")\n",
    "        texto_limpio = texto_buscar.replace(clave, dict_vocales[clave])\n",
    "    print(f\"Nuevo texto {texto_limpio}\")\n",
    "    return\n",
    "\n",
    "def buscar_letra(texto_limpio):\n",
    "    print(texto_limpio)\n",
    "    print(f\"\\nEl texto sobre el que quieres actuar es:\\n {texto_buscar}\")\n",
    "    print(f\"\\nEl número de veces que aparece la letra {letra_txt} en el texto de arriba es {texto_limpio.count(letra_txt)}\")\n",
    "    return\n",
    "    \n",
    "    \n",
    "limpieza_texto(texto_buscar, dict_vocales={'á':'a','é':'e','í':'i','ó':'o','ú':'u','ü':'u'})\n",
    "buscar_letra(texto_buscar)"
   ]
  },
  {
   "cell_type": "markdown",
   "metadata": {},
   "source": [
    "## Ejercicio 5\n",
    "Escribe una función que tenga un único argumento, un string. La salida de la función tiene que ser un diccionario con el conteo de todas las letras de ese string, siendo la clave la letra y el valor el conteo."
   ]
  },
  {
   "cell_type": "code",
   "execution_count": null,
   "metadata": {},
   "outputs": [],
   "source": [
    "print(\"Bienvenido, introduce el texto sobre el que quieres contar las letras: \\n\\n\")\n",
    "texto = str(input(\"Introduce el texto aquí\").lower())\n",
    "print(f\"En este texto: {texto}\\n\\n\")\n",
    "def contar_letras(texto):\n",
    "    # Diccionario para almacenar el conteo de cada carácter\n",
    "    conteo = {}\n",
    "    for letra in texto:\n",
    "        # Si la letra ya está en el diccionario, incrementamos su conteo +1\n",
    "        if letra in conteo:\n",
    "            conteo[letra] += 1\n",
    "        # Si no está, añadimos un conteo de 1\n",
    "        else:\n",
    "            conteo[letra] = 1\n",
    "    return conteo\n",
    "\n",
    "resultado = contar_letras(texto)\n",
    "print(resultado)"
   ]
  },
  {
   "cell_type": "markdown",
   "metadata": {},
   "source": [
    "## Ejercicio 6\n",
    "Escribir una función que añada o elimine elementos en una lista. La función necesita los siguientes argumentos:\n",
    "* lista: la lista donde se añadirán o eliminarán los elementos\n",
    "* comando: \"add\" o \"remove\"\n",
    "* elemento: Por defecto es None.\n",
    "\n",
    "Tendrá como salida la lista"
   ]
  },
  {
   "cell_type": "code",
   "execution_count": 20,
   "metadata": {},
   "outputs": [
    {
     "name": "stdout",
     "output_type": "stream",
     "text": [
      "Lista actual: ['25']\n",
      "Lista actual: ['25', '']\n",
      "Lista actual: ['25', '', '23']\n",
      "Saliendo del programa...\n"
     ]
    }
   ],
   "source": [
    "\n",
    "def modificar_lista(lista, comando, elemento=None):\n",
    "    if comando == \"añadir\":\n",
    "        elemento = input(\"¿Qué elemento quieres añadir?\")\n",
    "        if elemento is not None:\n",
    "            lista.append(elemento)\n",
    "        else:\n",
    "            print(\"Error: Para 'añadir', debes proporcionar un elemento.\")\n",
    "    elif comando == \"quitar\":\n",
    "        elemento = input(\"¿Qué elemento quieres eliminar?\")\n",
    "        if elemento is not None:\n",
    "            if elemento in lista:\n",
    "                lista.remove(elemento) \n",
    "            else:\n",
    "                print(f\"Error: El elemento '{elemento}' no está en la lista.\")\n",
    "        else:\n",
    "            print(\"Error: Para 'quitar', debes proporcionar un algo.\")\n",
    "    else:\n",
    "        print(\"Error: Comando no válido. Usa 'añadir' o 'quitar'.\")\n",
    "    return lista\n",
    "\n",
    "lista = []\n",
    "\n",
    "while True:\n",
    "    comando = str(input(\"¿Qué quieres hacer con la lista? (añadir/quitar/salir): \")).lower()\n",
    "    if comando == \"salir\":\n",
    "        print(\"Saliendo del programa...\")\n",
    "        break\n",
    "    if comando in [\"añadir\", \"quitar\"]:\n",
    "        # elemento = input(f\"¿Qué elemento quieres {comando}? \")\n",
    "        lista = modificar_lista(lista, comando, elemento)\n",
    "    else:\n",
    "        print(\"Comando no válido. Usa 'añadir', 'quitar' o 'salir'.\")\n",
    "    print(f\"Lista actual: {lista}\")\n"
   ]
  },
  {
   "cell_type": "markdown",
   "metadata": {},
   "source": [
    "## Ejercicio 7\n",
    "Crea una función que reciba un número arbitrario de palabras, y devuelva una frase completa, separando las palabras con espacios."
   ]
  },
  {
   "cell_type": "code",
   "execution_count": null,
   "metadata": {},
   "outputs": [],
   "source": [
    "# Opción 1\n",
    "\n",
    "\n",
    "def generar_frase(*palabras): # argumentos variables\n",
    "    return ' '.join(palabras)\n",
    "\n",
    "frase = generar_frase(\"Hola\", \"mundo\", \"esto\", \"es\", \"una\", \"prueba\")\n",
    "print(frase)"
   ]
  },
  {
   "cell_type": "code",
   "execution_count": null,
   "metadata": {},
   "outputs": [],
   "source": [
    "# Opción 2 (Meter tú las palabras)\n",
    "\n",
    "def generar_frase(*palabras): # argumentos variables\n",
    "    return ' '.join(palabras)\n",
    "\n",
    "palabras = []\n",
    "\n",
    "while True:\n",
    "    comando = str(input(\"¿Qué quieres hacer con la lista? (añadir/generar/salir): \")).lower()\n",
    "    if comando == \"salir\":\n",
    "        print(\"Saliendo del programa...\")\n",
    "        break\n",
    "    elif comando == \"añadir\":\n",
    "        palabra_añadir = str(input(\"¿Qué palabra quieres añadir a la frase?\"))\n",
    "        palabras.append(palabra_añadir)\n",
    "        print(palabras)\n",
    "    elif comando == \"generar\":\n",
    "        print(f\"Las palabras con las que generar la frase son: {palabras}\")\n",
    "        frase = generar_frase(*palabras)\n",
    "        print(frase)\n",
    "    else:\n",
    "        print(\"Comando no disponible. Elige otro\")"
   ]
  },
  {
   "cell_type": "markdown",
   "metadata": {},
   "source": [
    "## Ejercicio 8\n",
    "Escribe un programa que obtenga el enésimo número de la [serie de Fibonacci](https://es.wikipedia.org/wiki/Sucesi%C3%B3n_de_Fibonacci). Tienes que crear una función recursiva con un único argumento.\n",
    "\n",
    "```Python\n",
    "fibonacci(2) = 1\n",
    "fibonacci(4) = 3\n",
    "fibonacci(5) = 5\n",
    "fibonacci(8) = 21\n",
    "```"
   ]
  },
  {
   "cell_type": "markdown",
   "metadata": {},
   "source": [
    "fibonacci(n) = fibonacci(n-1) + fibonacci(n-2)"
   ]
  },
  {
   "cell_type": "code",
   "execution_count": null,
   "metadata": {},
   "outputs": [],
   "source": [
    "# Opción 1 utilizar fórmula matemática\n",
    "\n",
    "import math\n",
    "\n",
    "n = int(input(\"¿Qué número de la serie de Fibonacci quieres?\"))\n",
    "\n",
    "def fib_numbers(n):\n",
    "    if n < 2:\n",
    "        return n\n",
    "    else:\n",
    "        u = ((1+math.sqrt(5))/2)\n",
    "        j = ((u**n-(1-u)**n)/math.sqrt(5))\n",
    "        return round(j)\n",
    "\n",
    "fib_numbers(n)"
   ]
  },
  {
   "cell_type": "code",
   "execution_count": null,
   "metadata": {},
   "outputs": [],
   "source": [
    "# Opción 2 función recursiva\n",
    "\n",
    "import math\n",
    "\n",
    "n = int(input(\"¿Qué número de la serie de Fibonacci quieres?\"))\n",
    "\n",
    "def fibonacci(n, memo={}):\n",
    "    if n in memo:\n",
    "        return memo[n]\n",
    "    if n == 0:\n",
    "        return 0\n",
    "    elif n == 1:\n",
    "        return 1\n",
    "    else:\n",
    "        memo[n] = fibonacci(n - 1, memo) + fibonacci(n - 2, memo)\n",
    "        return memo[n]\n",
    "\n",
    "fibonacci(n, memo={})"
   ]
  },
  {
   "attachments": {},
   "cell_type": "markdown",
   "metadata": {},
   "source": [
    "## Ejercicio 9\n",
    "Define en una única celda las siguientes funciones:\n",
    "* Función que calcule el área de un cuadrado\n",
    "* Función que calcule el área de un triángulo\n",
    "* Función que calcule el área de un círculo\n",
    "\n",
    "En otra celda, calcular el area de:\n",
    "* Dos círculos de radio 10 + un triángulo de base 3 y altura 7\n",
    "* Un cuadrado de lado = 10 + 3 círculos (uno de radio = 4 y los otros dos de radio = 6) + 5 triángulos de base = 2 + altura = 4"
   ]
  },
  {
   "cell_type": "code",
   "execution_count": 1,
   "metadata": {},
   "outputs": [
    {
     "data": {
      "text/plain": [
       "9"
      ]
     },
     "execution_count": 1,
     "metadata": {},
     "output_type": "execute_result"
    }
   ],
   "source": [
    "import math\n",
    "\n",
    "def area_cuadrado(lado):\n",
    "    return lado ** 2\n",
    "\n",
    "def area_triangulo(base,altura):\n",
    "    return (base*altura)/2\n",
    "\n",
    "def area_circulo(radio):\n",
    "    return math.pi*(radio**2)\n",
    "\n",
    "area_cuadrado(3)"
   ]
  },
  {
   "cell_type": "code",
   "execution_count": 3,
   "metadata": {},
   "outputs": [
    {
     "name": "stdout",
     "output_type": "stream",
     "text": [
      "Dos círculos de radio 10 + un triángulo de base 3 y altura 7 : \n",
      "638.82\n",
      "\n",
      "Un cuadrado de lado = 10 + 3 círculos (uno de radio = 4 y los otros dos de radio = 6) + 5 triángulos de base = 2 + altura = 4 : \n",
      "459.29\n"
     ]
    }
   ],
   "source": [
    "# En otra celda, calcular el area de:\n",
    "# Dos círculos de radio 10 + un triángulo de base 3 y altura 7\n",
    "\n",
    "area_ejer_1 = round(float(2*area_circulo(10)+area_triangulo(3,7)),2)\n",
    "\n",
    "print(\"Dos círculos de radio 10 + un triángulo de base 3 y altura 7 : \")\n",
    "print(area_ejer_1)\n",
    "\n",
    "# Un cuadrado de lado = 10 + 3 círculos (uno de radio = 4 y los otros dos de radio = 6) + 5 triángulos de base = 2 + altura = 4\n",
    "\n",
    "area_ejer_2 = round(float(area_cuadrado(10)+(3*area_circulo(6))+(5*area_triangulo(2,4))),2)\n",
    "\n",
    "print(\"\\nUn cuadrado de lado = 10 + 3 círculos (uno de radio = 4 y los otros dos de radio = 6) + 5 triángulos de base = 2 + altura = 4 : \")\n",
    "print(area_ejer_2)"
   ]
  },
  {
   "cell_type": "markdown",
   "metadata": {},
   "source": [
    "## Ejercicio 10\n",
    "\n",
    "Guarda las funciones de estos ejercicios en un fichero llamado `funciones.py` e importalas desde este jupyter notebook para probar que puedes hacer uso de ellas."
   ]
  },
  {
   "cell_type": "markdown",
   "metadata": {},
   "source": [
    "`from funciones import *` con esto importas todas las funciones de una archivo python. También se puede seleccionar la función."
   ]
  },
  {
   "cell_type": "code",
   "execution_count": null,
   "metadata": {},
   "outputs": [],
   "source": [
    "from funciones import *"
   ]
  }
 ],
 "metadata": {
  "kernelspec": {
   "display_name": "Python 3",
   "language": "python",
   "name": "python3"
  },
  "language_info": {
   "codemirror_mode": {
    "name": "ipython",
    "version": 3
   },
   "file_extension": ".py",
   "mimetype": "text/x-python",
   "name": "python",
   "nbconvert_exporter": "python",
   "pygments_lexer": "ipython3",
   "version": "3.11.9"
  }
 },
 "nbformat": 4,
 "nbformat_minor": 4
}
