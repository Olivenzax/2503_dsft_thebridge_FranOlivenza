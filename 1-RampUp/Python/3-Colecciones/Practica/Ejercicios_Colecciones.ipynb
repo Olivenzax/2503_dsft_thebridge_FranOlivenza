{
 "cells": [
  {
   "cell_type": "markdown",
   "metadata": {},
   "source": [
    "![imagen](./img/ejercicios.png)"
   ]
  },
  {
   "cell_type": "markdown",
   "metadata": {},
   "source": [
    "## Ejercicio 1\n",
    "Dada la siguiente lista:\n",
    "> ```ejer_1 = [1,2,3,4,5]```\n",
    "\n",
    "Inviértela para que quede de la siguiente manera\n",
    "> ```ejer_1 = [5,4,3,2,1]```"
   ]
  },
  {
   "cell_type": "code",
   "execution_count": null,
   "metadata": {},
   "outputs": [],
   "source": [
    "# Opción 1\n",
    "\n",
    "ejer_1 = [1,2,3,4,5]\n",
    "\n",
    "ejer_1 = sorted(ejer_1, reverse=True)\n",
    "\n",
    "print(ejer_1)\n"
   ]
  },
  {
   "cell_type": "code",
   "execution_count": null,
   "metadata": {},
   "outputs": [],
   "source": [
    "# Opción 2\n",
    "\n",
    "ejer_1 = [1,2,3,4,5]\n",
    "\n",
    "ejer_1.reverse()\n",
    "\n",
    "print(ejer_1)"
   ]
  },
  {
   "cell_type": "code",
   "execution_count": null,
   "metadata": {},
   "outputs": [],
   "source": [
    "# Opción 3\n",
    "\n",
    "ejer_1 = [1,2,3,4,5]\n",
    "\n",
    "ejer_1_inv = list(reversed(ejer_1))\n",
    "\n",
    "print(ejer_1_inv)"
   ]
  },
  {
   "cell_type": "code",
   "execution_count": null,
   "metadata": {},
   "outputs": [],
   "source": [
    "# Opción 4\n",
    "\n",
    "ejer_1 = [1,2,3,4,5]\n",
    "\n",
    "ejer_1_inv = ejer_1[::-1]\n",
    "\n",
    "print(ejer_1_inv)"
   ]
  },
  {
   "cell_type": "markdown",
   "metadata": {},
   "source": [
    "## Ejercicio 2\n",
    "Eleva todos los elementos de la lista al cuadrado\n",
    "> ```ejer_2 = [1,2,3,4,5]```"
   ]
  },
  {
   "cell_type": "code",
   "execution_count": null,
   "metadata": {},
   "outputs": [],
   "source": [
    "# Opción 1\n",
    "\n",
    "ejer_2 = [1,2,3,4,5]\n",
    "\n",
    "ejer_2_squ = []\n",
    "\n",
    "for e in ejer_2:\n",
    "    ejer_2_squ.append(e**2)\n",
    "    # Si se pone aquí \"print(ejer_2_squ)\" salen cinco líneas. Sumando un factor por línea.\n",
    "\n",
    "print(ejer_2_squ)"
   ]
  },
  {
   "cell_type": "code",
   "execution_count": 1,
   "metadata": {},
   "outputs": [
    {
     "name": "stdout",
     "output_type": "stream",
     "text": [
      "[1, 4, 9, 16, 25]\n"
     ]
    }
   ],
   "source": [
    "# Opción 2\n",
    "## Con list comprehension\n",
    "ejer_2 = [1,2,3,4,5]\n",
    "\n",
    "ejer_2_squ = [e**2 for e in ejer_2]\n",
    "\n",
    "print(ejer_2_squ)"
   ]
  },
  {
   "cell_type": "markdown",
   "metadata": {},
   "source": [
    "## Ejercicio 3\n",
    "Crea una lista nueva con todas las combinaciones de las siguientes dos listas:\n",
    "> ```ejer_3_1 = [\"Hola\", \"amigo\"]```\n",
    ">\n",
    "> ```ejer_3_2 = [\"Que\", \"tal\"]```\n",
    "\n",
    "Obten el siguiente output:\n",
    "\n",
    "```['Hola Que', 'Hola tal', 'amigo Que', 'amigo tal']```"
   ]
  },
  {
   "cell_type": "code",
   "execution_count": 5,
   "metadata": {},
   "outputs": [
    {
     "name": "stdout",
     "output_type": "stream",
     "text": [
      "[('Hola', 'Que'), ('Hola', 'tal'), ('amigo', 'Que'), ('amigo', 'tal')]\n"
     ]
    }
   ],
   "source": [
    "# Opción 1\n",
    "## Con list comprehension\n",
    "\n",
    "ejer_3_1 = [\"Hola\", \"amigo\"]\n",
    "ejer_3_2 = [\"Que\", \"tal\"]\n",
    "\n",
    "combinaciones = [(a, b) for a in ejer_3_1 for b in ejer_3_2]\n",
    "\n",
    "print(combinaciones)"
   ]
  },
  {
   "cell_type": "code",
   "execution_count": null,
   "metadata": {},
   "outputs": [
    {
     "data": {
      "text/plain": [
       "[('Hola', 'Que'), ('Hola', 'tal'), ('amigo', 'Que'), ('amigo', 'tal')]"
      ]
     },
     "execution_count": 4,
     "metadata": {},
     "output_type": "execute_result"
    }
   ],
   "source": [
    "# Opción 2\n",
    "## Doble bucle\n",
    "\n",
    "ejer_3_1 = [\"Hola\", \"amigo\"]\n",
    "ejer_3_2 = [\"Que\", \"tal\"]\n",
    "\n",
    "combinaciones = []\n",
    "for a in ejer_3_1:\n",
    "    for b in ejer_3_2:\n",
    "        combinaciones.append((a,b))\n",
    "\n",
    "print(combinaciones)\n",
    "\n"
   ]
  },
  {
   "cell_type": "code",
   "execution_count": null,
   "metadata": {},
   "outputs": [
    {
     "name": "stdout",
     "output_type": "stream",
     "text": [
      "Hola Que\n",
      "Hola tal\n",
      "amigo Que\n",
      "amigo tal\n",
      "['Hola Que', 'Hola tal', 'amigo Que', 'amigo tal']\n"
     ]
    }
   ],
   "source": [
    "# Opción 3\n",
    "\n",
    "lista = []\n",
    "\n",
    "ejer_3_1 = [\"Hola\", \"amigo\"]\n",
    "ejer_3_2 = [\"Que\", \"tal\"]\n",
    "\n",
    "for i in ejer_3_1:\n",
    "    for j in ejer_3_2:\n",
    "        print(i,j)\n",
    "        lista.append(i+\" \"+j)\n",
    "        \n",
    "print(lista)\n",
    "\n",
    "## Este es el que está bien."
   ]
  },
  {
   "attachments": {},
   "cell_type": "markdown",
   "metadata": {},
   "source": [
    "## Ejercicio 4\n",
    "Dada la siguiente lista, encuentra por el índice el valor 45 y sustitúyelo por el 0\n",
    "> ```ejer_4 = [20, 47, 19, 29, 45, 67, 78, 90]```"
   ]
  },
  {
   "cell_type": "code",
   "execution_count": null,
   "metadata": {},
   "outputs": [],
   "source": [
    "# Opción 1 (con for)\n",
    "\n",
    "ejer_4 = [20, 47, 19, 29, 45, 67, 78, 90]\n",
    "\n",
    "for i in range(len(ejer_4)):\n",
    "    if ejer_4[i] == 45:\n",
    "        ejer_4[i] = 0\n",
    "\n",
    "print(ejer_4)"
   ]
  },
  {
   "cell_type": "code",
   "execution_count": null,
   "metadata": {},
   "outputs": [],
   "source": [
    "# Opción 2 (con try/except)\n",
    "\n",
    "ejer_4 = [20, 47, 19, 29, 45, 67, 78, 90]\n",
    "\n",
    "try:\n",
    "    indice = ejer_4.index(45) \n",
    "    ejer_4[indice] = 0 \n",
    "except ValueError:\n",
    "    print(e)\n",
    "\n",
    "print(ejer_4)"
   ]
  },
  {
   "cell_type": "code",
   "execution_count": null,
   "metadata": {},
   "outputs": [
    {
     "name": "stdout",
     "output_type": "stream",
     "text": [
      "4\n"
     ]
    }
   ],
   "source": [
    "# Opción 3 (con index)\n",
    "\n",
    "ejer_4 = [20, 47, 19, 29, 45, 67, 78, 90]\n",
    "\n",
    "indice_ejer_4 = ejer_4.index(45)\n",
    "\n",
    "print(indice_ejer_4)\n",
    "\n",
    "ejer_4 = ejer_4.insert(,indice_ejer_4)\n"
   ]
  },
  {
   "cell_type": "markdown",
   "metadata": {},
   "source": [
    "## Ejercicio 5\n",
    "Dada la siguiente lista, elimina todos los valores iguales a 3\n",
    "> ```ejer_5 = [3, 20, 3, 47, 19, 3, 29, 45, 67, 78, 90, 3, 3]```\n",
    "\n",
    "TIP: No intentes eliminar elementos sobre la lista que estás iterando. Haz una copia con `ejer_5.copy()`."
   ]
  },
  {
   "cell_type": "code",
   "execution_count": 12,
   "metadata": {},
   "outputs": [
    {
     "name": "stdout",
     "output_type": "stream",
     "text": [
      "Lista original:\n",
      "[3, 20, 3, 47, 19, 3, 29, 45, 67, 78, 90, 3, 3]\n",
      "\n",
      "Lista copiada sin el 3\n",
      "[20, 47, 19, 29, 45, 67, 78, 90]\n"
     ]
    }
   ],
   "source": [
    "# Opción 1 con iteración\n",
    "\n",
    "ejer_5 = [3, 20, 3, 47, 19, 3, 29, 45, 67, 78, 90, 3, 3]\n",
    "\n",
    "print(\"Lista original:\")\n",
    "print(ejer_5)\n",
    "\n",
    "for numero in ejer_5.copy():\n",
    "    if numero == 3:\n",
    "        ejer_5.remove(numero)\n",
    "print()\n",
    "print(\"Lista copiada sin el 3\")\n",
    "print(ejer_5)"
   ]
  },
  {
   "cell_type": "code",
   "execution_count": 13,
   "metadata": {},
   "outputs": [
    {
     "name": "stdout",
     "output_type": "stream",
     "text": [
      "Lista original:\n",
      "[3, 20, 3, 47, 19, 3, 29, 45, 67, 78, 90, 3, 3]\n",
      "\n",
      "Lista copiada sin el 3\n",
      "[20, 47, 19, 29, 45, 67, 78, 90]\n"
     ]
    }
   ],
   "source": [
    "# Opción 2 con comprensión de listas\n",
    "\n",
    "print(\"Lista original:\")\n",
    "ejer_5 = [3, 20, 3, 47, 19, 3, 29, 45, 67, 78, 90, 3, 3]\n",
    "print(ejer_5)\n",
    "\n",
    "print()\n",
    "print(\"Lista copiada sin el 3\")\n",
    "ejer_5 = [numero for numero in ejer_5 if numero != 3]\n",
    "\n",
    "print(ejer_5)"
   ]
  },
  {
   "cell_type": "code",
   "execution_count": null,
   "metadata": {},
   "outputs": [
    {
     "name": "stdout",
     "output_type": "stream",
     "text": [
      "Lista original:\n",
      "[3, 20, 3, 47, 19, 3, 29, 45, 67, 78, 90, 3, 3]\n",
      "Esta es la lista original [20, 47, 19, 29, 45, 67, 78, 90]\n",
      "Esta es la lista copiada [20, 47, 19, 29, 45, 67, 78, 90]\n"
     ]
    }
   ],
   "source": [
    "# Opción 3 con while\n",
    "\n",
    "print(\"Lista original:\")\n",
    "ejer_5 = [3, 20, 3, 47, 19, 3, 29, 45, 67, 78, 90, 3, 3]\n",
    "print(ejer_5)\n",
    "\n",
    "# Con copy\n",
    "ejer_5_copia = ejer_5\n",
    "\n",
    "while 3 in ejer_5:\n",
    "    ejer_5.remove(3)\n",
    "print(f\"Esta es la lista original {ejer_5}\")\n",
    "print(f\"Esta es la lista copiada {ejer_5_copia}\")"
   ]
  },
  {
   "attachments": {},
   "cell_type": "markdown",
   "metadata": {},
   "source": [
    "## Ejercicio 6\n",
    "1. Crea una tupla con 3 elementos\n",
    "2. Crea otra tupla con un elemento y comprueba su tipo\n",
    "3. Crea una tupla con elementos de diferentes tipos\n",
    "4. Imprime por pantalla el primer y último elemento de la tupla del apartado 3. Usa `len` para el último\n",
    "5. Añade un elemento a la tupla del apartado 3.\n",
    "6. Eliminar un elemento de la tupla del apartado 5, que se encuentre más o menos en la mitad.\n",
    "7. Convierte la tupla del apartado 5 en una lista"
   ]
  },
  {
   "cell_type": "code",
   "execution_count": 47,
   "metadata": {},
   "outputs": [
    {
     "name": "stdout",
     "output_type": "stream",
     "text": [
      "(1, 2, 3)\n",
      "<class 'tuple'>\n"
     ]
    }
   ],
   "source": [
    "# Crea una tupla con tres elementos\n",
    "\n",
    "tupla_1 = (1,2,3)\n",
    "print(tupla_1)\n",
    "print(type(tupla_1))\n"
   ]
  },
  {
   "cell_type": "code",
   "execution_count": 48,
   "metadata": {},
   "outputs": [
    {
     "name": "stdout",
     "output_type": "stream",
     "text": [
      "(4,)\n",
      "<class 'tuple'>\n"
     ]
    }
   ],
   "source": [
    "# Crea otra tupla con un elemento y comprueba su tipo\n",
    "\n",
    "tupla_2 = (4,)\n",
    "# Hay que poner la coma, porque si no, lo interpreta como int.\n",
    "print(tupla_2)\n",
    "print(type(tupla_2))"
   ]
  },
  {
   "cell_type": "code",
   "execution_count": 49,
   "metadata": {},
   "outputs": [
    {
     "name": "stdout",
     "output_type": "stream",
     "text": [
      "(5, 'seis', [7, 8])\n",
      "<class 'tuple'>\n"
     ]
    }
   ],
   "source": [
    "# Crea una tupla con elementos de diferentes tipos\n",
    "\n",
    "tupla_3 = (5, \"seis\", [7,8])\n",
    "print(tupla_3)\n",
    "print(type(tupla_3))"
   ]
  },
  {
   "cell_type": "code",
   "execution_count": null,
   "metadata": {},
   "outputs": [
    {
     "name": "stdout",
     "output_type": "stream",
     "text": [
      "Primer elemento: 5\n",
      "Último elemento: [7, 8]\n"
     ]
    }
   ],
   "source": [
    "# Imprime por pantalla el primer y último elemento de la tupla del apartado 3. Usa `len` para el último\n",
    "\n",
    "print(f\"Primer elemento: {tupla_3[0]}\")\n",
    "print(f\"Último elemento: {tupla_3[len(tupla_3) - 1]}\")\n",
    "\n",
    "# Si pones directamente \"-1\" hace lo mismo. Porque va en contradirección dentro de la lista."
   ]
  },
  {
   "cell_type": "code",
   "execution_count": 51,
   "metadata": {},
   "outputs": [
    {
     "data": {
      "text/plain": [
       "(5, 'seis', [7, 8], 'New')"
      ]
     },
     "execution_count": 51,
     "metadata": {},
     "output_type": "execute_result"
    }
   ],
   "source": [
    "# Añade un elemento a la tupla del apartado 3.\n",
    "\n",
    "elem_new = \"New\"\n",
    "\n",
    "tupla_3_mod = tupla_3 + (elem_new,)\n",
    "\n",
    "tupla_3_mod"
   ]
  },
  {
   "cell_type": "code",
   "execution_count": null,
   "metadata": {},
   "outputs": [
    {
     "name": "stdout",
     "output_type": "stream",
     "text": [
      "La mitad de nuestra tupla está en el puesto 2\n",
      "Tupla después de eliminar el elemento en la mitad: (5, 'seis', 'New')\n"
     ]
    }
   ],
   "source": [
    "# Eliminar un elemento de la tupla del apartado 5, que se encuentre más o menos en la mitad.\n",
    "\n",
    "# Primero hay que encontrar la mitad de la tupla\n",
    "\n",
    "index_mid = len(tupla_3_mod) // 2\n",
    "print(f\"La mitad de nuestra tupla está en el puesto {index_mid}\")\n",
    "\n",
    "# Crear nueva tupla que excluya el elemento de la mitad y sumarla, para que cree una intersección de ambas.\n",
    "\n",
    "tupla_3_mod_no_mid = tupla_3_mod[:index_mid] + tupla_3_mod[index_mid + 1:]\n",
    "print(\"Tupla después de eliminar el elemento en la mitad:\",tupla_3_mod_no_mid)"
   ]
  },
  {
   "cell_type": "code",
   "execution_count": 55,
   "metadata": {},
   "outputs": [
    {
     "name": "stdout",
     "output_type": "stream",
     "text": [
      "La tupla convertida en lista es:\n",
      " [5, 'seis', [7, 8], 'New']\n"
     ]
    }
   ],
   "source": [
    "# Convierte la tupla del apartado 5 en una lista\n",
    "\n",
    "tupla_lista = list(tupla_3_mod)\n",
    "\n",
    "print(f\"La tupla convertida en lista es:\\n {tupla_lista}\")"
   ]
  },
  {
   "attachments": {},
   "cell_type": "markdown",
   "metadata": {},
   "source": [
    "## Ejercicio 7\n",
    "Concatena todos los elementos de la tupla en un único string. Para ello utiliza el metodo `.join()` de los Strings\n",
    "> ```ejer_7 = (\"cien\", \"cañones\", \"por\", \"banda\")```\n",
    "\n",
    "Resultado: `cien cañones por banda`"
   ]
  },
  {
   "cell_type": "code",
   "execution_count": 17,
   "metadata": {},
   "outputs": [
    {
     "name": "stdout",
     "output_type": "stream",
     "text": [
      "('cien', 'cañones', 'por', 'banda')\n",
      "cien cañones por banda\n"
     ]
    }
   ],
   "source": [
    "# Concatena todos los elementos de la tupla en un único string. Para ello utiliza el metodo `.join()` de los Strings\n",
    "\n",
    "ejer_7 = (\"cien\", \"cañones\", \"por\", \"banda\")\n",
    "print(ejer_7)\n",
    "\n",
    "frase = \" \".join(ejer_7)\n",
    "print(frase)"
   ]
  },
  {
   "cell_type": "code",
   "execution_count": 19,
   "metadata": {},
   "outputs": [
    {
     "name": "stdout",
     "output_type": "stream",
     "text": [
      "('cien', 'cañones', 'por', 'banda')\n",
      "cien\n",
      "cañones\n",
      "por\n",
      "banda\n"
     ]
    }
   ],
   "source": [
    "ejer_7 = (\"cien\", \"cañones\", \"por\", \"banda\")\n",
    "print(ejer_7)\n",
    "\n",
    "separador = \"\\n\"\n",
    "\n",
    "frase = separador.join(ejer_7)\n",
    "print(frase)"
   ]
  },
  {
   "cell_type": "markdown",
   "metadata": {},
   "source": [
    "## Ejercicio 8\n",
    "Obten el tercer elemento de la siguiente tupla, y el tercero empezando por la cola\n",
    "> ```ejer_8 = (3, 20, 3, 47, 19, 3, 29, 45, 67, 78, 90, 3, 3)```"
   ]
  },
  {
   "cell_type": "code",
   "execution_count": null,
   "metadata": {},
   "outputs": [
    {
     "name": "stdout",
     "output_type": "stream",
     "text": [
      "13\n",
      "Este es el tercer elemento de la tupla: 3\n",
      "Este es el tercer elemento de la tupla empezando por la cola: 90\n"
     ]
    }
   ],
   "source": [
    "# Obten el tercer elemento de la siguiente tupla, y el tercero empezando por la cola\n",
    "\n",
    "ejer_8 = (3, 20, 3, 47, 19, 3, 29, 45, 67, 78, 90, 3, 3)\n",
    "\n",
    "print(len(ejer_8))\n",
    "\n",
    "tercer_elem = ejer_8[2]\n",
    "tercer_elem_menos = ejer_8[-3]\n",
    "\n",
    "    \n",
    "print(f\"Este es el tercer elemento de la tupla: {tercer_elem}\")\n",
    "print(f\"Este es el tercer elemento de la tupla empezando por la cola: {tercer_elem_menos}\")"
   ]
  },
  {
   "attachments": {},
   "cell_type": "markdown",
   "metadata": {},
   "source": [
    "## Ejercicio 9\n",
    "1. ¿Cuántas veces se repite el 3 en la siguiente tupla?\n",
    "2. Crea una tupla nueva con los elementos desde la posición 5 a la 10.\n",
    "3. ¿Cuántos elementos tiene la tupla `ejer_9`?\n",
    "4. Comprueba si el numero 60 está en la tupla\n",
    "> ```ejer_9 = (3, 20, 3, 47, 19, 3, 29, 45, 67, 78, 90, 3, 3, 5, 2, 4, 7, 9, 4, 2, 4, 3, 3, 4, 6, 7)```"
   ]
  },
  {
   "cell_type": "code",
   "execution_count": null,
   "metadata": {},
   "outputs": [
    {
     "name": "stdout",
     "output_type": "stream",
     "text": [
      "7\n"
     ]
    }
   ],
   "source": [
    "# ¿Cuántas veces se repite el 3 en la siguiente tupla?\n",
    "\n",
    "ejer_9 = (3, 20, 3, 47, 19, 3, 29, 45, 67, 78, 90, 3, 3, 5, 2, 4, 7, 9, 4, 2, 4, 3, 3, 4, 6, 7)\n",
    "# Hay que poner 0 en la siguiente porque es de donde va a empezar a contar la iteración.\n",
    "cuenta_3 = 0\n",
    "\n",
    "for n in ejer_9:\n",
    "    if n == 3:\n",
    "        cuenta_3 += 1\n",
    "\n",
    "print(cuenta_3)"
   ]
  },
  {
   "cell_type": "code",
   "execution_count": null,
   "metadata": {},
   "outputs": [
    {
     "name": "stdout",
     "output_type": "stream",
     "text": [
      "7\n"
     ]
    }
   ],
   "source": [
    "# ¿Cuántas veces se repite el 3 en la siguiente tupla?\n",
    "## Hay un método más rápido con una función propia\n",
    "\n",
    "ejer_9 = (3, 20, 3, 47, 19, 3, 29, 45, 67, 78, 90, 3, 3, 5, 2, 4, 7, 9, 4, 2, 4, 3, 3, 4, 6, 7)\n",
    "print(ejer_9.count(3))"
   ]
  },
  {
   "cell_type": "code",
   "execution_count": 24,
   "metadata": {},
   "outputs": [
    {
     "name": "stdout",
     "output_type": "stream",
     "text": [
      "El número 3 se repite 7 veces\n"
     ]
    }
   ],
   "source": [
    "print(\"El número 3 se repite\", ejer_9.count(3), \"veces\")"
   ]
  },
  {
   "cell_type": "code",
   "execution_count": 26,
   "metadata": {},
   "outputs": [
    {
     "name": "stdout",
     "output_type": "stream",
     "text": [
      "(19, 3, 29, 45, 67)\n",
      "\n",
      "(19, 3, 29, 45, 67, 78)\n"
     ]
    }
   ],
   "source": [
    "# Crea una tupla nueva con los elementos desde la posición 5 a la 10.\n",
    "\n",
    "ejer_9 = (3, 20, 3, 47, 19, 3, 29, 45, 67, 78, 90, 3, 3, 5, 2, 4, 7, 9, 4, 2, 4, 3, 3, 4, 6, 7)\n",
    "\n",
    "# Sin incluir posición 10:\n",
    "ejer_9_nueva = ejer_9[4:9]\n",
    "print(ejer_9_nueva)\n",
    "print()\n",
    "# Incluyendo posición 10:\n",
    "ejer_9_nueva = ejer_9[4:10]\n",
    "print(ejer_9_nueva)"
   ]
  },
  {
   "cell_type": "code",
   "execution_count": 27,
   "metadata": {},
   "outputs": [
    {
     "name": "stdout",
     "output_type": "stream",
     "text": [
      "26\n"
     ]
    }
   ],
   "source": [
    "# ¿Cuántos elementos tiene la tupla `ejer_9`?\n",
    "\n",
    "ejer_9 = (3, 20, 3, 47, 19, 3, 29, 45, 67, 78, 90, 3, 3, 5, 2, 4, 7, 9, 4, 2, 4, 3, 3, 4, 6, 7)\n",
    "\n",
    "print(len(ejer_9))"
   ]
  },
  {
   "cell_type": "code",
   "execution_count": 25,
   "metadata": {},
   "outputs": [
    {
     "name": "stdout",
     "output_type": "stream",
     "text": [
      "No está en la lista\n"
     ]
    }
   ],
   "source": [
    "# Comprueba si el numero 60 está en la tupla\n",
    "\n",
    "ejer_9 = (3, 20, 3, 47, 19, 3, 29, 45, 67, 78, 90, 3, 3, 5, 2, 4, 7, 9, 4, 2, 4, 3, 3, 4, 6, 7)\n",
    "resultado = 60 in ejer_9\n",
    "if resultado == False:\n",
    "    print(\"No está en la lista\")\n",
    "else: \n",
    "    print(\"Está\")"
   ]
  },
  {
   "cell_type": "code",
   "execution_count": 26,
   "metadata": {},
   "outputs": [
    {
     "data": {
      "text/plain": [
       "False"
      ]
     },
     "execution_count": 26,
     "metadata": {},
     "output_type": "execute_result"
    }
   ],
   "source": [
    "# Comprueba si el numero 60 está en la tupla\n",
    "## Más sencillo\n",
    "\n",
    "60 in ejer_9"
   ]
  },
  {
   "attachments": {},
   "cell_type": "markdown",
   "metadata": {},
   "source": [
    "## Ejercicio 10\n",
    "1. Convierte la tupla del ejercicio 9 en una lista\n",
    "2. Convierte la tupla del ejercicio 9 en un set\n",
    "3. Convierte la tupla del ejercicio 9 en un diccionario. Usa también los índices"
   ]
  },
  {
   "cell_type": "code",
   "execution_count": 27,
   "metadata": {},
   "outputs": [
    {
     "name": "stdout",
     "output_type": "stream",
     "text": [
      "[3, 20, 3, 47, 19, 3, 29, 45, 67, 78, 90, 3, 3, 5, 2, 4, 7, 9, 4, 2, 4, 3, 3, 4, 6, 7]\n",
      "<class 'list'>\n"
     ]
    }
   ],
   "source": [
    "# Convierte la tupla del ejercicio 9 en una lista\n",
    "\n",
    "ejer_9 = (3, 20, 3, 47, 19, 3, 29, 45, 67, 78, 90, 3, 3, 5, 2, 4, 7, 9, 4, 2, 4, 3, 3, 4, 6, 7)\n",
    "\n",
    "ejer_10_list = list(ejer_9)\n",
    "\n",
    "print(ejer_10_list)\n",
    "print(type(ejer_10_list))"
   ]
  },
  {
   "cell_type": "code",
   "execution_count": 28,
   "metadata": {},
   "outputs": [
    {
     "name": "stdout",
     "output_type": "stream",
     "text": [
      "{2, 3, 67, 5, 4, 7, 6, 9, 45, 78, 47, 19, 20, 90, 29}\n",
      "<class 'set'>\n"
     ]
    }
   ],
   "source": [
    "# Convierte la tupla del ejercicio 9 en un set\n",
    "\n",
    "ejer_9 = (3, 20, 3, 47, 19, 3, 29, 45, 67, 78, 90, 3, 3, 5, 2, 4, 7, 9, 4, 2, 4, 3, 3, 4, 6, 7)\n",
    "\n",
    "ejer_10_set = set(ejer_9)\n",
    "\n",
    "print(ejer_10_set)\n",
    "print(type(ejer_10_set))"
   ]
  },
  {
   "cell_type": "code",
   "execution_count": 29,
   "metadata": {},
   "outputs": [
    {
     "name": "stdout",
     "output_type": "stream",
     "text": [
      "{1: 3, 2: 20, 3: 3, 4: 47, 5: 19, 6: 3, 7: 29, 8: 45, 9: 67, 10: 78, 11: 90, 12: 3, 13: 3, 14: 5, 15: 2, 16: 4, 17: 7, 18: 9, 19: 4, 20: 2, 21: 4, 22: 3, 23: 3, 24: 4, 25: 6, 26: 7}\n",
      "<class 'dict'>\n"
     ]
    }
   ],
   "source": [
    "# Convierte la tupla del ejercicio 9 en un diccionario. Usa también los índices\n",
    "\n",
    "ejer_9 = (3, 20, 3, 47, 19, 3, 29, 45, 67, 78, 90, 3, 3, 5, 2, 4, 7, 9, 4, 2, 4, 3, 3, 4, 6, 7)\n",
    "\n",
    "ejer_10_dict = {indice+1: valor for indice, valor in enumerate(ejer_9)}\n",
    "\n",
    "print(ejer_10_dict)\n",
    "print(type(ejer_10_dict))"
   ]
  },
  {
   "cell_type": "markdown",
   "metadata": {},
   "source": [
    "## Ejercicio 11\n",
    "Convierte la siguiente lista en un diccionario\n",
    "> ```ejer_11 = [(\"x\", 1), (\"x\", 2), (\"x\", 3), (\"y\", 1), (\"y\", 2), (\"z\", 1)]```\n",
    "\n",
    "TIP: Puedes usar dos variables de control en un bucle `for`. Una por cada valor de las tuplas."
   ]
  },
  {
   "cell_type": "code",
   "execution_count": null,
   "metadata": {},
   "outputs": [
    {
     "name": "stdout",
     "output_type": "stream",
     "text": [
      "{'x': 3, 'y': 2, 'z': 1}\n"
     ]
    }
   ],
   "source": [
    "# Convierte la siguiente lista en un diccionario\n",
    "\n",
    "ejer_11 = [(\"x\", 1), (\"x\", 2), (\"x\", 3), (\"y\", 1), (\"y\", 2), (\"z\", 1)]\n",
    "\n",
    "print(dict(ejer_11))\n",
    "\n",
    "# Solo ha cogido el último resultado de las tuplas"
   ]
  },
  {
   "cell_type": "markdown",
   "metadata": {},
   "source": [
    "###### Explicación\n",
    "Cuando tenemos un diccionario, accedemos a través de clave/valor.\n",
    "Por lo tanto, no podemos poner varias claves iguales."
   ]
  },
  {
   "cell_type": "code",
   "execution_count": null,
   "metadata": {},
   "outputs": [
    {
     "name": "stdout",
     "output_type": "stream",
     "text": [
      "{'x': [1, 2, 3], 'y': [1, 2], 'z': [1]}\n"
     ]
    }
   ],
   "source": [
    "# Convierte la siguiente lista en un diccionario\n",
    "\n",
    "ejer_11 = [(\"x\", 1), (\"x\", 2), (\"x\", 3), (\"y\", 1), (\"y\", 2), (\"z\", 1)]\n",
    "\n",
    "ejer_11_dic = {}\n",
    "\n",
    "for k, v in ejer_11:\n",
    "    if k not in ejer_11_dic:\n",
    "        ejer_11_dic[k] = []\n",
    "    ejer_11_dic[k].append(v)\n",
    "\n",
    "# De esta forma se recogen los valores de las claves repetidas dentro de una lista para cada una. \n",
    "\n",
    "print(ejer_11_dic)"
   ]
  },
  {
   "attachments": {},
   "cell_type": "markdown",
   "metadata": {},
   "source": [
    "## Ejercicio 12\n",
    "1. Crea una lista ordenada ascendente con las claves del diccionario\n",
    "2. Crea otra lista ordenada descendente con los valores\n",
    "3. Añade una nueva clave/valor\n",
    "4. Busca la clave igual a 2 dentro del diccionario\n",
    "5. Itera la clave y el valor del diccionario con un único for\n",
    "> ```ejer_12 = {4:78, 2:98, 8:234, 5:29}```"
   ]
  },
  {
   "cell_type": "code",
   "execution_count": 51,
   "metadata": {},
   "outputs": [
    {
     "name": "stdout",
     "output_type": "stream",
     "text": [
      "[2, 4, 5, 8]\n"
     ]
    }
   ],
   "source": [
    "# Crea una lista ordenada ascendente con las claves del diccionario\n",
    "\n",
    "ejer_12 = {4:78, 2:98, 8:234, 5:29}\n",
    "\n",
    "ejer_12_asc = sorted(ejer_12.keys())\n",
    "\n",
    "print(ejer_12_asc)"
   ]
  },
  {
   "cell_type": "code",
   "execution_count": null,
   "metadata": {},
   "outputs": [
    {
     "name": "stdout",
     "output_type": "stream",
     "text": [
      "[8, 5, 4, 2]\n"
     ]
    }
   ],
   "source": [
    "# Crea otra lista ordenada descendente con los valores con FUNCIÓN\n",
    "\n",
    "ejer_12 = {4:78, 2:98, 8:234, 5:29}\n",
    "\n",
    "ejer_12_desc = sorted(ejer_12.keys(),reverse=True)\n",
    "\n",
    "print(ejer_12_desc)"
   ]
  },
  {
   "cell_type": "code",
   "execution_count": 60,
   "metadata": {},
   "outputs": [
    {
     "name": "stdout",
     "output_type": "stream",
     "text": [
      "{4: 78, 2: 98, 8: 234, 5: 29}\n",
      "{4: 78, 2: 98, 8: 234, 5: 29, 10: 100}\n"
     ]
    }
   ],
   "source": [
    "# Añade una nueva clave/valor\n",
    "\n",
    "ejer_12 = {4:78, 2:98, 8:234, 5:29}\n",
    "print(ejer_12)\n",
    "\n",
    "ejer_12[10] = 100\n",
    "print(ejer_12)"
   ]
  },
  {
   "cell_type": "code",
   "execution_count": 59,
   "metadata": {},
   "outputs": [
    {
     "name": "stdout",
     "output_type": "stream",
     "text": [
      "{4: 78, 2: 98, 8: 234, 5: 29}\n",
      "Clave 2 tiene un valor de 98\n"
     ]
    }
   ],
   "source": [
    "# Busca la clave igual a 2 dentro del diccionario\n",
    "\n",
    "ejer_12 = {4:78, 2:98, 8:234, 5:29}\n",
    "print(ejer_12)\n",
    "\n",
    "if 2 in ejer_12:\n",
    "    print(f\"Clave 2 tiene un valor de {ejer_12[2]}\")\n",
    "else:\n",
    "    print(\"Esa clave no está en el diccionario\")"
   ]
  },
  {
   "cell_type": "code",
   "execution_count": 62,
   "metadata": {},
   "outputs": [
    {
     "name": "stdout",
     "output_type": "stream",
     "text": [
      "{4: 78, 2: 98, 8: 234, 5: 29}\n",
      "\n",
      "Clave: 4 Valor: 78\n",
      "Clave: 2 Valor: 98\n",
      "Clave: 8 Valor: 234\n",
      "Clave: 5 Valor: 29\n"
     ]
    }
   ],
   "source": [
    "# Itera la clave y el valor del diccionario con un único for\n",
    "\n",
    "ejer_12 = {4:78, 2:98, 8:234, 5:29}\n",
    "print(ejer_12)\n",
    "print()\n",
    "for k,v in ejer_12.items():\n",
    "    print(f\"Clave: {k} Valor: {v}\")"
   ]
  },
  {
   "cell_type": "markdown",
   "metadata": {},
   "source": [
    "## Ejercicio 13\n",
    "Junta ambos diccionarios. Para ello, utiliza `update`\n",
    "> ```ejer_13_1 = {1: 11, 2: 22}```\n",
    ">\n",
    "> ```ejer_13_2 = {3: 33, 4: 44}```"
   ]
  },
  {
   "cell_type": "code",
   "execution_count": 67,
   "metadata": {},
   "outputs": [
    {
     "name": "stdout",
     "output_type": "stream",
     "text": [
      "{1: 11, 2: 22}\n",
      "{3: 33, 4: 44}\n",
      "\n",
      "{1: 11, 2: 22, 3: 33, 4: 44}\n"
     ]
    }
   ],
   "source": [
    "# Junta ambos diccionarios. Para ello, utiliza `update`\n",
    "\n",
    "ejer_13_1 = {1: 11, 2: 22}\n",
    "ejer_13_2 = {3: 33, 4: 44}\n",
    "print(ejer_13_1)\n",
    "print(ejer_13_2)\n",
    "print()\n",
    "ejer_13_1.update(ejer_13_2)\n",
    "ejer_13 = ejer_13_1\n",
    "print(ejer_13)"
   ]
  },
  {
   "cell_type": "markdown",
   "metadata": {},
   "source": [
    "## Ejercicio 14\n",
    "Suma todos los valores del dicionario\n",
    "> ```ejer_14 = {1: 11, 2: 22, 3: 33, 4: 44, 5: 55}```"
   ]
  },
  {
   "cell_type": "code",
   "execution_count": 70,
   "metadata": {},
   "outputs": [
    {
     "name": "stdout",
     "output_type": "stream",
     "text": [
      "La suma de todos los valores del diccionario es 165\n"
     ]
    }
   ],
   "source": [
    "# Suma todos los valores del dicionario\n",
    "ejer_14 = {1: 11, 2: 22, 3: 33, 4: 44, 5: 55}\n",
    "\n",
    "ejer_14_v = ejer_14.values()\n",
    "ejer_14_sum = sum(ejer_14_v)\n",
    "\n",
    "print(f\"La suma de todos los valores del diccionario es {ejer_14_sum}\")"
   ]
  },
  {
   "cell_type": "code",
   "execution_count": 33,
   "metadata": {},
   "outputs": [
    {
     "name": "stdout",
     "output_type": "stream",
     "text": [
      "165\n"
     ]
    }
   ],
   "source": [
    "ejer_14 = {1: 11, 2: 22, 3: 33, 4: 44, 5: 55}\n",
    "\n",
    "print(sum(ejer_14.values()))"
   ]
  },
  {
   "cell_type": "markdown",
   "metadata": {},
   "source": [
    "## Ejercicio 15\n",
    "Multiplica todos los valores del diccionario\n",
    "> ```ejer_15 = {1: 11, 2: 22, 3: 33, 4: 44, 5: 55}```"
   ]
  },
  {
   "cell_type": "code",
   "execution_count": 72,
   "metadata": {},
   "outputs": [
    {
     "name": "stdout",
     "output_type": "stream",
     "text": [
      "El resultado de multiplicar todos los valores es 19326120\n"
     ]
    }
   ],
   "source": [
    "# Multiplica todos los valores del diccionario\n",
    "\n",
    "ejer_15 = {1: 11, 2: 22, 3: 33, 4: 44, 5: 55}\n",
    "\n",
    "ejer_15_v = ejer_15.values()\n",
    "resultado = 1\n",
    "\n",
    "for v in ejer_15_v:\n",
    "    resultado *= v\n",
    "\n",
    "print(\"El resultado de multiplicar todos los valores es\", resultado)"
   ]
  },
  {
   "cell_type": "markdown",
   "metadata": {},
   "source": [
    "## Ejercicio 16\n",
    "1. Crea un set de tres elementos\n",
    "2. Añade un cuarto\n",
    "3. Elimina el último elemento añadido\n",
    "4. Elimina el elemento 10, si está presente. Usa `discard()`"
   ]
  },
  {
   "cell_type": "code",
   "execution_count": 97,
   "metadata": {},
   "outputs": [
    {
     "name": "stdout",
     "output_type": "stream",
     "text": [
      "{1, 2, 3}\n",
      "<class 'set'>\n"
     ]
    }
   ],
   "source": [
    "# Crea un set de tres elementos\n",
    "\n",
    "set_1 = {1,2,3}\n",
    "print(set_1)\n",
    "print(type(set_1))"
   ]
  },
  {
   "cell_type": "code",
   "execution_count": 98,
   "metadata": {},
   "outputs": [
    {
     "name": "stdout",
     "output_type": "stream",
     "text": [
      "{1, 2, 3, 4}\n"
     ]
    }
   ],
   "source": [
    "# Añade un cuarto\n",
    "\n",
    "set_1.add(4)\n",
    "print(set_1)"
   ]
  },
  {
   "cell_type": "code",
   "execution_count": 99,
   "metadata": {},
   "outputs": [
    {
     "name": "stdout",
     "output_type": "stream",
     "text": [
      "{1, 2, 3}\n"
     ]
    }
   ],
   "source": [
    "# Elimina el último elemento añadido\n",
    "\n",
    "set_1.remove(4)\n",
    "print(set_1)\n"
   ]
  },
  {
   "cell_type": "code",
   "execution_count": 100,
   "metadata": {},
   "outputs": [
    {
     "name": "stdout",
     "output_type": "stream",
     "text": [
      "{1, 2, 3, 10}\n",
      "{1, 2, 3}\n"
     ]
    }
   ],
   "source": [
    "# Elimina el elemento 10, si está presente. Usa `discard()`\n",
    "\n",
    "set_1.add(10)\n",
    "print(set_1)\n",
    "set_1.discard(10)\n",
    "print(set_1)"
   ]
  },
  {
   "cell_type": "markdown",
   "metadata": {},
   "source": [
    "*Francisco Olivenza Millón*"
   ]
  }
 ],
 "metadata": {
  "kernelspec": {
   "display_name": "Python 3",
   "language": "python",
   "name": "python3"
  },
  "language_info": {
   "codemirror_mode": {
    "name": "ipython",
    "version": 3
   },
   "file_extension": ".py",
   "mimetype": "text/x-python",
   "name": "python",
   "nbconvert_exporter": "python",
   "pygments_lexer": "ipython3",
   "version": "3.11.9"
  }
 },
 "nbformat": 4,
 "nbformat_minor": 4
}
