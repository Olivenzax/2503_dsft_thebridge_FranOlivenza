{
 "cells": [
  {
   "cell_type": "markdown",
   "metadata": {},
   "source": [
    "## Ejercicio Extra\n",
    "Programa el SW de una biblioteca:\n",
    "\n",
    "* Preguntar qué operación quieres realizar (visualizar todos los libros de la biblioteca/buscar libro/añadir libro/eliminar libro por título)\n",
    "    * En caso de que pida el usuario elija visualizar se visualizarán todos los libros\n",
    "    * Buscar libro: búsqueda por título que introduce el usuario y se visualiza todos los campos del libro\n",
    "    * Añadir libro: se debe solicitar al usuario que introduzca título y autor para el nuevo libro y se añade el libro a la lista de libros\n",
    "    * Eliminar libro: se solicita al usuario el título del libro y éste debe ser eliminado de la lista de libros\n",
    "    * Alquilar libro: se solicita al usuario el título del libro y se debe pasar el campo \"Alquilado\" a True\n",
    "    * Devolver libro: se solicita al usuario el título del libro y se debe pasar el campo \"Alquilado\" a False"
   ]
  },
  {
   "cell_type": "code",
   "execution_count": 1,
   "metadata": {},
   "outputs": [],
   "source": [
    "libros = [\n",
    "    {\"Titulo\": \"Python Data Science Handbook\", \"Autor\": \"Jake VanderPlas\", \"Alquilado\": False},\n",
    "    {\"Titulo\": \"Hands-On Machine Learning with Scikit-Learn, Keras, and TensorFlow\", \"Autor\": \"Aurélien Géron\", \"Alquilado\": True},\n",
    "    {\"Titulo\": \"Pattern Recognition and Machine Learning\", \"Autor\": \"Christopher M. Bishop\", \"Alquilado\": False},\n",
    "    {\"Titulo\": \"Deep Learning\", \"Autor\": \"Ian Goodfellow, Yoshua Bengio, Aaron Courville\", \"Alquilado\": True},\n",
    "    {\"Titulo\": \"The Elements of Statistical Learning\", \"Autor\": \"Trevor Hastie, Robert Tibshirani, Jerome Friedman\", \"Alquilado\": False},\n",
    "    {\"Titulo\": \"Data Science for Business\", \"Autor\": \"Foster Provost, Tom Fawcett\", \"Alquilado\": False},\n",
    "    {\"Titulo\": \"Bayesian Data Analysis\", \"Autor\": \"Andrew Gelman et al.\", \"Alquilado\": True},\n",
    "    {\"Titulo\": \"Introduction to the Theory of Computation\", \"Autor\": \"Michael Sipser\", \"Alquilado\": False},\n",
    "    {\"Titulo\": \"Artificial Intelligence: A Modern Approach\", \"Autor\": \"Stuart Russell, Peter Norvig\", \"Alquilado\": True},\n",
    "    {\"Titulo\": \"Computer Vision: Algorithms and Applications\", \"Autor\": \"Richard Szeliski\", \"Alquilado\": False},\n",
    "    {\"Titulo\": \"Data Science from Scratch\", \"Autor\": \"Joel Grus\", \"Alquilado\": True},\n",
    "    {\"Titulo\": \"The Art of Statistics\", \"Autor\": \"David Spiegelhalter\", \"Alquilado\": False},\n",
    "    {\"Titulo\": \"Python Machine Learning\", \"Autor\": \"Sebastian Raschka, Vahid Mirjalili\", \"Alquilado\": True},\n",
    "    {\"Titulo\": \"An Introduction to Statistical Learning\", \"Autor\": \"Gareth James, Daniela Witten, Trevor Hastie, Robert Tibshirani\", \"Alquilado\": False},\n",
    "    {\"Titulo\": \"Fundamentals of Data Engineering\", \"Autor\": \"Joe Reis, Matt Housley\", \"Alquilado\": False},\n",
    "    {\"Titulo\": \"Storytelling with Data\", \"Autor\": \"Cole Nussbaumer Knaflic\", \"Alquilado\": True},\n",
    "    {\"Titulo\": \"Building Machine Learning Powered Applications\", \"Autor\": \"Emmanuel Ameisen\", \"Alquilado\": False},\n",
    "    {\"Titulo\": \"Practical Statistics for Data Scientists\", \"Autor\": \"Peter Bruce, Andrew Bruce\", \"Alquilado\": True},\n",
    "    {\"Titulo\": \"SQL for Data Scientists\", \"Autor\": \"Renee M. P. Teate\", \"Alquilado\": False},\n",
    "    {\"Titulo\": \"Data Engineering on Azure\", \"Autor\": \"Vlad Riscutia\", \"Alquilado\": True}\n",
    "]"
   ]
  },
  {
   "cell_type": "code",
   "execution_count": null,
   "metadata": {},
   "outputs": [
    {
     "name": "stdout",
     "output_type": "stream",
     "text": [
      "\n",
      "¡Bienvenido a la biblioteca de Data Science! Elige la opción que quieras realizar de la siguiente lista\n",
      "\n",
      "1 Visualizar\n",
      "\n",
      "2 Buscar\n",
      "\n",
      "3 Añadir\n",
      "\n",
      "4 Eliminar\n",
      "\n",
      "5 Alquilar\n",
      "\n",
      "6 Devolver\n",
      "\n",
      "7 Salir\n",
      "\n",
      "Has elegido visualizar, aquí se muestran todos los libros:\n",
      "\n",
      "Título del libro:\n",
      "-----------------\n",
      "Python Data Science Handbook\n",
      "Hands-On Machine Learning with Scikit-Learn, Keras, and TensorFlow\n",
      "Pattern Recognition and Machine Learning\n",
      "Deep Learning\n",
      "The Elements of Statistical Learning\n",
      "Data Science for Business\n",
      "Bayesian Data Analysis\n",
      "Introduction to the Theory of Computation\n",
      "Artificial Intelligence: A Modern Approach\n",
      "Computer Vision: Algorithms and Applications\n",
      "Data Science from Scratch\n",
      "The Art of Statistics\n",
      "Python Machine Learning\n",
      "An Introduction to Statistical Learning\n",
      "Fundamentals of Data Engineering\n",
      "Storytelling with Data\n",
      "Building Machine Learning Powered Applications\n",
      "Practical Statistics for Data Scientists\n",
      "SQL for Data Scientists\n",
      "Data Engineering on Azure\n",
      "1 Visualizar\n",
      "\n",
      "2 Buscar\n",
      "\n",
      "3 Añadir\n",
      "\n",
      "4 Eliminar\n",
      "\n",
      "5 Alquilar\n",
      "\n",
      "6 Devolver\n",
      "\n",
      "7 Salir\n",
      "\n",
      "\n",
      "Muchas gracias por usar el buscador de la Biblioteca \n",
      "\n",
      " ¡Hasta pronto!\n"
     ]
    }
   ],
   "source": [
    "\n",
    "\n",
    "# Menu\n",
    "## Seis casos\n",
    "'''\n",
    "* En caso de que pida el usuario elija visualizar se visualizarán todos los libros\n",
    "* Buscar libro: búsqueda por título que introduce el usuario y se visualiza todos los campos del libro\n",
    "* Añadir libro: se debe solicitar al usuario que introduzca título y autor para el nuevo libro y se añade el libro a la lista de libros\n",
    "* Eliminar libro: se solicita al usuario el título del libro y éste debe ser eliminado de la lista de libros\n",
    "* Alquilar libro: se solicita al usuario el título del libro y se debe pasar el campo \"Alquilado\" a True\n",
    "* Devolver libro: se solicita al usuario el título del libro y se debe pasar el campo \"Alquilado\" a False\n",
    "'''\n",
    "# Cada caso tiene que tener una función, que corresponde a una entrada en el menú\n",
    "\n",
    "\n",
    "import time\n",
    "\n",
    "operaciones_bib = [\"Visualizar\", \"Buscar\", \"Añadir\", \"Eliminar\", \"Alquilar\", \"Devolver\", \"Salir\"]\n",
    "libros = [\n",
    "    {\"Titulo\": \"Python Data Science Handbook\", \"Autor\": \"Jake VanderPlas\", \"Alquilado\": False},\n",
    "    {\"Titulo\": \"Hands-On Machine Learning with Scikit-Learn, Keras, and TensorFlow\", \"Autor\": \"Aurélien Géron\", \"Alquilado\": True},\n",
    "    {\"Titulo\": \"Pattern Recognition and Machine Learning\", \"Autor\": \"Christopher M. Bishop\", \"Alquilado\": False},\n",
    "    {\"Titulo\": \"Deep Learning\", \"Autor\": \"Ian Goodfellow, Yoshua Bengio, Aaron Courville\", \"Alquilado\": True},\n",
    "    {\"Titulo\": \"The Elements of Statistical Learning\", \"Autor\": \"Trevor Hastie, Robert Tibshirani, Jerome Friedman\", \"Alquilado\": False},\n",
    "    {\"Titulo\": \"Data Science for Business\", \"Autor\": \"Foster Provost, Tom Fawcett\", \"Alquilado\": False},\n",
    "    {\"Titulo\": \"Bayesian Data Analysis\", \"Autor\": \"Andrew Gelman et al.\", \"Alquilado\": True},\n",
    "    {\"Titulo\": \"Introduction to the Theory of Computation\", \"Autor\": \"Michael Sipser\", \"Alquilado\": False},\n",
    "    {\"Titulo\": \"Artificial Intelligence: A Modern Approach\", \"Autor\": \"Stuart Russell, Peter Norvig\", \"Alquilado\": True},\n",
    "    {\"Titulo\": \"Computer Vision: Algorithms and Applications\", \"Autor\": \"Richard Szeliski\", \"Alquilado\": False},\n",
    "    {\"Titulo\": \"Data Science from Scratch\", \"Autor\": \"Joel Grus\", \"Alquilado\": True},\n",
    "    {\"Titulo\": \"The Art of Statistics\", \"Autor\": \"David Spiegelhalter\", \"Alquilado\": False},\n",
    "    {\"Titulo\": \"Python Machine Learning\", \"Autor\": \"Sebastian Raschka, Vahid Mirjalili\", \"Alquilado\": True},\n",
    "    {\"Titulo\": \"An Introduction to Statistical Learning\", \"Autor\": \"Gareth James, Daniela Witten, Trevor Hastie, Robert Tibshirani\", \"Alquilado\": False},\n",
    "    {\"Titulo\": \"Fundamentals of Data Engineering\", \"Autor\": \"Joe Reis, Matt Housley\", \"Alquilado\": False},\n",
    "    {\"Titulo\": \"Storytelling with Data\", \"Autor\": \"Cole Nussbaumer Knaflic\", \"Alquilado\": True},\n",
    "    {\"Titulo\": \"Building Machine Learning Powered Applications\", \"Autor\": \"Emmanuel Ameisen\", \"Alquilado\": False},\n",
    "    {\"Titulo\": \"Practical Statistics for Data Scientists\", \"Autor\": \"Peter Bruce, Andrew Bruce\", \"Alquilado\": True},\n",
    "    {\"Titulo\": \"SQL for Data Scientists\", \"Autor\": \"Renee M. P. Teate\", \"Alquilado\": False},\n",
    "    {\"Titulo\": \"Data Engineering on Azure\", \"Autor\": \"Vlad Riscutia\", \"Alquilado\": True}\n",
    "]\n",
    "\n",
    "print()\n",
    "print(\"¡Bienvenido a la biblioteca de Data Science! Elige la opción que quieras realizar de la siguiente lista\")\n",
    "print()\n",
    "\n",
    "def visualizar_libros(libros):\n",
    "    print(\"Has elegido visualizar, aquí se muestran todos los libros:\")\n",
    "    print()\n",
    "    time.sleep(1)\n",
    "    print(\"Título del libro:\")\n",
    "    print(\"-----------------\")\n",
    "    for libro in libros:\n",
    "        titulo = libro['Titulo']\n",
    "        print(titulo)\n",
    "\n",
    "while True:\n",
    "    time.sleep(1.5)\n",
    "    for op in range(len(operaciones_bib)):\n",
    "        print(op+1, operaciones_bib[op])\n",
    "        print()\n",
    "    operacion_form = str(input(\"¿Qué operación quieres realizar?\"))\n",
    "\n",
    "    if operacion_form == \"Salir\":\n",
    "        print()\n",
    "        print(\"Muchas gracias por usar el buscador de la Biblioteca \\n\\n ¡Hasta pronto!\")\n",
    "        break\n",
    "    else:\n",
    "        if operacion_form == \"Visualizar\":\n",
    "            visualizar_libros(libros)\n",
    "\n",
    "    \n"
   ]
  },
  {
   "cell_type": "code",
   "execution_count": null,
   "metadata": {},
   "outputs": [],
   "source": [
    "# Volver o salir:\n",
    "\n",
    "def otra_op():\n",
    "    print()\n",
    "    print(\"¿Deseas hacer otra operación?\")\n",
    "    "
   ]
  },
  {
   "cell_type": "code",
   "execution_count": 8,
   "metadata": {},
   "outputs": [
    {
     "name": "stdout",
     "output_type": "stream",
     "text": [
      "Título del libro:\n",
      "-----------------\n",
      "Python Data Science Handbook\n",
      "Hands-On Machine Learning with Scikit-Learn, Keras, and TensorFlow\n",
      "Pattern Recognition and Machine Learning\n",
      "Deep Learning\n",
      "The Elements of Statistical Learning\n",
      "Data Science for Business\n",
      "Bayesian Data Analysis\n",
      "Introduction to the Theory of Computation\n",
      "Artificial Intelligence: A Modern Approach\n",
      "Computer Vision: Algorithms and Applications\n",
      "Data Science from Scratch\n",
      "The Art of Statistics\n",
      "Python Machine Learning\n",
      "An Introduction to Statistical Learning\n",
      "Fundamentals of Data Engineering\n",
      "Storytelling with Data\n",
      "Building Machine Learning Powered Applications\n",
      "Practical Statistics for Data Scientists\n",
      "SQL for Data Scientists\n",
      "Data Engineering on Azure\n"
     ]
    }
   ],
   "source": [
    "# Visualizar libros\n",
    "\n",
    "def visualizar_libros(libros):\n",
    "    print(\"Título del libro:\")\n",
    "    print(\"-----------------\")\n",
    "    for libro in libros:\n",
    "        titulo = libro['Titulo']\n",
    "        print(titulo)\n",
    "\n",
    "visualizar_libros(libros)"
   ]
  },
  {
   "cell_type": "code",
   "execution_count": 11,
   "metadata": {},
   "outputs": [],
   "source": [
    "import pprint"
   ]
  },
  {
   "cell_type": "code",
   "execution_count": null,
   "metadata": {},
   "outputs": [
    {
     "data": {
      "text/plain": [
       "[{'Titulo': 'Python Data Science Handbook',\n",
       "  'Autor': 'Jake VanderPlas',\n",
       "  'Alquilado': False},\n",
       " {'Titulo': 'Hands-On Machine Learning with Scikit-Learn, Keras, and TensorFlow',\n",
       "  'Autor': 'Aurélien Géron',\n",
       "  'Alquilado': True},\n",
       " {'Titulo': 'Pattern Recognition and Machine Learning',\n",
       "  'Autor': 'Christopher M. Bishop',\n",
       "  'Alquilado': False},\n",
       " {'Titulo': 'Deep Learning',\n",
       "  'Autor': 'Ian Goodfellow, Yoshua Bengio, Aaron Courville',\n",
       "  'Alquilado': True},\n",
       " {'Titulo': 'The Elements of Statistical Learning',\n",
       "  'Autor': 'Trevor Hastie, Robert Tibshirani, Jerome Friedman',\n",
       "  'Alquilado': False},\n",
       " {'Titulo': 'Data Science for Business',\n",
       "  'Autor': 'Foster Provost, Tom Fawcett',\n",
       "  'Alquilado': False},\n",
       " {'Titulo': 'Bayesian Data Analysis',\n",
       "  'Autor': 'Andrew Gelman et al.',\n",
       "  'Alquilado': True},\n",
       " {'Titulo': 'Introduction to the Theory of Computation',\n",
       "  'Autor': 'Michael Sipser',\n",
       "  'Alquilado': False},\n",
       " {'Titulo': 'Artificial Intelligence: A Modern Approach',\n",
       "  'Autor': 'Stuart Russell, Peter Norvig',\n",
       "  'Alquilado': True},\n",
       " {'Titulo': 'Computer Vision: Algorithms and Applications',\n",
       "  'Autor': 'Richard Szeliski',\n",
       "  'Alquilado': False},\n",
       " {'Titulo': 'Data Science from Scratch',\n",
       "  'Autor': 'Joel Grus',\n",
       "  'Alquilado': True},\n",
       " {'Titulo': 'The Art of Statistics',\n",
       "  'Autor': 'David Spiegelhalter',\n",
       "  'Alquilado': False},\n",
       " {'Titulo': 'Python Machine Learning',\n",
       "  'Autor': 'Sebastian Raschka, Vahid Mirjalili',\n",
       "  'Alquilado': True},\n",
       " {'Titulo': 'An Introduction to Statistical Learning',\n",
       "  'Autor': 'Gareth James, Daniela Witten, Trevor Hastie, Robert Tibshirani',\n",
       "  'Alquilado': False},\n",
       " {'Titulo': 'Fundamentals of Data Engineering',\n",
       "  'Autor': 'Joe Reis, Matt Housley',\n",
       "  'Alquilado': False},\n",
       " {'Titulo': 'Storytelling with Data',\n",
       "  'Autor': 'Cole Nussbaumer Knaflic',\n",
       "  'Alquilado': True},\n",
       " {'Titulo': 'Building Machine Learning Powered Applications',\n",
       "  'Autor': 'Emmanuel Ameisen',\n",
       "  'Alquilado': False},\n",
       " {'Titulo': 'Practical Statistics for Data Scientists',\n",
       "  'Autor': 'Peter Bruce, Andrew Bruce',\n",
       "  'Alquilado': True},\n",
       " {'Titulo': 'SQL for Data Scientists',\n",
       "  'Autor': 'Renee M. P. Teate',\n",
       "  'Alquilado': False},\n",
       " {'Titulo': 'Data Engineering on Azure',\n",
       "  'Autor': 'Vlad Riscutia',\n",
       "  'Alquilado': True}]"
      ]
     },
     "execution_count": 10,
     "metadata": {},
     "output_type": "execute_result"
    }
   ],
   "source": [
    "def visualizar_libros(libros):\n",
    "    pprint.pprint(libros)"
   ]
  },
  {
   "cell_type": "code",
   "execution_count": null,
   "metadata": {},
   "outputs": [],
   "source": [
    "def buscar_libro(libros):\n",
    "    titulo = input()"
   ]
  },
  {
   "cell_type": "code",
   "execution_count": null,
   "metadata": {},
   "outputs": [
    {
     "name": "stdout",
     "output_type": "stream",
     "text": [
      "Libro encontrado:\n",
      "{'Titulo': 'Python Data Science Handbook', 'Autor': 'Jake VanderPlas', 'Alquilado': False}\n"
     ]
    }
   ],
   "source": [
    "#Para visualizar solo el título\n",
    "titulo_buscar = \"Python Data Science Handbook\"\n",
    "\n",
    "for libro in libros:\n",
    "    #print(libro)\n",
    "    titulo = libro['Titulo']\n",
    "    if titulo == titulo_buscar:\n",
    "        print(\"Libro encontrado:\")\n",
    "        print(libro)\n",
    "\n"
   ]
  },
  {
   "cell_type": "code",
   "execution_count": 24,
   "metadata": {},
   "outputs": [],
   "source": [
    "def buscar_libros(libros):    \n",
    "    titulo_buscar = input(\"Introduce el título, por favor:\")\n",
    "    for libro in libros:\n",
    "        #print(libro)\n",
    "        titulo = libro['Titulo']\n",
    "        if titulo == titulo_buscar:\n",
    "            print(\"Libro encontrado:\")\n",
    "            print(libro)\n",
    "            break"
   ]
  },
  {
   "cell_type": "code",
   "execution_count": 27,
   "metadata": {},
   "outputs": [
    {
     "name": "stdout",
     "output_type": "stream",
     "text": [
      "Libro encontrado:\n",
      "{'Titulo': 'Python Data Science Handbook', 'Autor': 'Jake VanderPlas', 'Alquilado': False}\n"
     ]
    }
   ],
   "source": [
    "buscar_libros(libros)"
   ]
  },
  {
   "cell_type": "code",
   "execution_count": null,
   "metadata": {},
   "outputs": [],
   "source": [
    "def op_salir(operacion_form):\n",
    "    print()\n",
    "    print(\"Muchas gracias por usar el buscador de la Biblioteca \\n\\n ¿Hasta pronto!\")\n",
    "    break"
   ]
  }
 ],
 "metadata": {
  "kernelspec": {
   "display_name": "Python 3",
   "language": "python",
   "name": "python3"
  },
  "language_info": {
   "codemirror_mode": {
    "name": "ipython",
    "version": 3
   },
   "file_extension": ".py",
   "mimetype": "text/x-python",
   "name": "python",
   "nbconvert_exporter": "python",
   "pygments_lexer": "ipython3",
   "version": "3.11.9"
  }
 },
 "nbformat": 4,
 "nbformat_minor": 2
}
